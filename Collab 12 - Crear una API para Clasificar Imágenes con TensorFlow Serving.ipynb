{
  "nbformat": 4,
  "nbformat_minor": 0,
  "metadata": {
    "accelerator": "GPU",
    "colab": {
      "name": "Collab 12 - Crear una API para Clasificar Imágenes con TensorFlow Serving.ipynb",
      "provenance": [],
      "collapsed_sections": [],
      "toc_visible": true
    },
    "kernelspec": {
      "display_name": "Python 3",
      "language": "python",
      "name": "python3"
    },
    "language_info": {
      "codemirror_mode": {
        "name": "ipython",
        "version": 3
      },
      "file_extension": ".py",
      "mimetype": "text/x-python",
      "name": "python",
      "nbconvert_exporter": "python",
      "pygments_lexer": "ipython3",
      "version": "3.8.5"
    }
  },
  "cells": [
    {
      "cell_type": "markdown",
      "metadata": {
        "id": "kWbUYy4Huos_"
      },
      "source": [
        "<a href=\"https://colab.research.google.com/github/joanby/tensorflow2/blob/master/Collab%2012%20-%20Crear%20una%20API%20para%20Clasificar%20Imágenes%20con%20TensorFlow%20Serving.ipynb\" target=\"_parent\"><img src=\"https://colab.research.google.com/assets/colab-badge.svg\" alt=\"Open In Colab\"/></a>"
      ]
    },
    {
      "cell_type": "markdown",
      "metadata": {
        "id": "yCrzPgLp7W1h"
      },
      "source": [
        "## Paso 1: Instalar las dependencias y configurar el proyecto en GPU\n"
      ]
    },
    {
      "cell_type": "code",
      "metadata": {
        "id": "w0KGbZuk7T7F",
        "outputId": "bc0f51b5-f111-4615-a1e4-872d7d25f8ed",
        "colab": {
          "base_uri": "https://localhost:8080/",
          "height": 374
        }
      },
      "source": [
        "!echo \"deb http://storage.googleapis.com/tensorflow-serving-apt stable tensorflow-model-server tensorflow-model-server-universal\" | tee /etc/apt/sources.list.d/tensorflow-serving.list && \\\n",
        "curl https://storage.googleapis.com/tensorflow-serving-apt/tensorflow-serving.release.pub.gpg | apt-key add -\n",
        "!apt update"
      ],
      "execution_count": 21,
      "outputs": [
        {
          "output_type": "stream",
          "text": [
            "deb http://storage.googleapis.com/tensorflow-serving-apt stable tensorflow-model-server tensorflow-model-server-universal\n",
            "  % Total    % Received % Xferd  Average Speed   Time    Time     Time  Current\n",
            "                                 Dload  Upload   Total   Spent    Left  Speed\n",
            "\r  0     0    0     0    0     0      0      0 --:--:-- --:--:-- --:--:--     0\r100  2943  100  2943    0     0   143k      0 --:--:-- --:--:-- --:--:--  143k\n",
            "OK\n",
            "Hit:1 http://storage.googleapis.com/tensorflow-serving-apt stable InRelease\n",
            "Hit:2 https://cloud.r-project.org/bin/linux/ubuntu bionic-cran40/ InRelease\n",
            "Ign:3 https://developer.download.nvidia.com/compute/cuda/repos/ubuntu1804/x86_64  InRelease\n",
            "Hit:4 http://security.ubuntu.com/ubuntu bionic-security InRelease\n",
            "Ign:5 https://developer.download.nvidia.com/compute/machine-learning/repos/ubuntu1804/x86_64  InRelease\n",
            "Hit:6 https://developer.download.nvidia.com/compute/cuda/repos/ubuntu1804/x86_64  Release\n",
            "Hit:7 https://developer.download.nvidia.com/compute/machine-learning/repos/ubuntu1804/x86_64  Release\n",
            "Hit:9 http://archive.ubuntu.com/ubuntu bionic InRelease\n",
            "Hit:11 http://archive.ubuntu.com/ubuntu bionic-updates InRelease\n",
            "Hit:12 http://archive.ubuntu.com/ubuntu bionic-backports InRelease\n",
            "Hit:13 http://ppa.launchpad.net/c2d4u.team/c2d4u4.0+/ubuntu bionic InRelease\n",
            "Hit:14 http://ppa.launchpad.net/graphics-drivers/ppa/ubuntu bionic InRelease\n",
            "Reading package lists... Done\n",
            "Building dependency tree       \n",
            "Reading state information... Done\n",
            "23 packages can be upgraded. Run 'apt list --upgradable' to see them.\n"
          ],
          "name": "stdout"
        }
      ]
    },
    {
      "cell_type": "code",
      "metadata": {
        "id": "-AoEpKnD94Lj",
        "outputId": "28c541bc-eccf-4967-9e0e-a0286f01fa3f",
        "colab": {
          "base_uri": "https://localhost:8080/",
          "height": 272
        }
      },
      "source": [
        "!apt-get install tensorflow-model-server"
      ],
      "execution_count": 22,
      "outputs": [
        {
          "output_type": "stream",
          "text": [
            "Reading package lists... Done\n",
            "Building dependency tree       \n",
            "Reading state information... Done\n",
            "The following NEW packages will be installed:\n",
            "  tensorflow-model-server\n",
            "0 upgraded, 1 newly installed, 0 to remove and 23 not upgraded.\n",
            "Need to get 210 MB of archives.\n",
            "After this operation, 0 B of additional disk space will be used.\n",
            "Get:1 http://storage.googleapis.com/tensorflow-serving-apt stable/tensorflow-model-server amd64 tensorflow-model-server all 2.3.0 [210 MB]\n",
            "Fetched 210 MB in 4s (50.4 MB/s)\n",
            "Selecting previously unselected package tensorflow-model-server.\n",
            "(Reading database ... 144618 files and directories currently installed.)\n",
            "Preparing to unpack .../tensorflow-model-server_2.3.0_all.deb ...\n",
            "Unpacking tensorflow-model-server (2.3.0) ...\n",
            "Setting up tensorflow-model-server (2.3.0) ...\n"
          ],
          "name": "stdout"
        }
      ]
    },
    {
      "cell_type": "code",
      "metadata": {
        "id": "a1cAehxr-M9p"
      },
      "source": [
        "#!pip install tensorflow-gpu==1.13.1"
      ],
      "execution_count": 23,
      "outputs": []
    },
    {
      "cell_type": "code",
      "metadata": {
        "id": "zfxOPCl7-Wp7",
        "outputId": "094bb7af-b068-453d-c96f-9054ecc9a048",
        "colab": {
          "base_uri": "https://localhost:8080/",
          "height": 102
        }
      },
      "source": [
        "!pip install requests"
      ],
      "execution_count": 24,
      "outputs": [
        {
          "output_type": "stream",
          "text": [
            "Requirement already satisfied: requests in /usr/local/lib/python3.6/dist-packages (2.23.0)\n",
            "Requirement already satisfied: chardet<4,>=3.0.2 in /usr/local/lib/python3.6/dist-packages (from requests) (3.0.4)\n",
            "Requirement already satisfied: urllib3!=1.25.0,!=1.25.1,<1.26,>=1.21.1 in /usr/local/lib/python3.6/dist-packages (from requests) (1.24.3)\n",
            "Requirement already satisfied: idna<3,>=2.5 in /usr/local/lib/python3.6/dist-packages (from requests) (2.10)\n",
            "Requirement already satisfied: certifi>=2017.4.17 in /usr/local/lib/python3.6/dist-packages (from requests) (2020.6.20)\n"
          ],
          "name": "stdout"
        }
      ]
    },
    {
      "cell_type": "markdown",
      "metadata": {
        "id": "qsgbM_R2-ud_"
      },
      "source": [
        "## Paso 2: Importar las dependencias del proyecto"
      ]
    },
    {
      "cell_type": "code",
      "metadata": {
        "id": "Y3taHerg-nkS",
        "outputId": "8ae7fbae-7685-4f86-df31-27c0c9d58406",
        "colab": {
          "base_uri": "https://localhost:8080/",
          "height": 37
        }
      },
      "source": [
        "import os\n",
        "import json\n",
        "import random\n",
        "import requests\n",
        "import subprocess\n",
        "import numpy as np\n",
        "import tensorflow as tf\n",
        "import matplotlib.pyplot as plt\n",
        "\n",
        "from tensorflow.keras.datasets import cifar10\n",
        "\n",
        "%matplotlib inline\n",
        "tf.__version__"
      ],
      "execution_count": 25,
      "outputs": [
        {
          "output_type": "execute_result",
          "data": {
            "application/vnd.google.colaboratory.intrinsic+json": {
              "type": "string"
            },
            "text/plain": [
              "'2.3.0'"
            ]
          },
          "metadata": {
            "tags": []
          },
          "execution_count": 25
        }
      ]
    },
    {
      "cell_type": "markdown",
      "metadata": {
        "id": "90mWV1g6_TSt"
      },
      "source": [
        "## Paso 3: Pre procesado de los datos"
      ]
    },
    {
      "cell_type": "markdown",
      "metadata": {
        "id": "dJsURBeA_XEe"
      },
      "source": [
        "### Cargar el dataset"
      ]
    },
    {
      "cell_type": "code",
      "metadata": {
        "id": "FVgkziGT_RQZ"
      },
      "source": [
        "(X_train, y_train), (X_test, y_test) = cifar10.load_data()"
      ],
      "execution_count": 26,
      "outputs": []
    },
    {
      "cell_type": "code",
      "metadata": {
        "id": "hqOyARxY_kC2"
      },
      "source": [
        "class_names = ['avión', 'coche', 'pájaro', 'gato', 'ciervo', 'perro', 'rana', 'caballo', 'barco', 'camión']"
      ],
      "execution_count": 27,
      "outputs": []
    },
    {
      "cell_type": "markdown",
      "metadata": {
        "id": "B_adA5GI_ZGK"
      },
      "source": [
        "### Normalización de imágenes"
      ]
    },
    {
      "cell_type": "code",
      "metadata": {
        "id": "VK4HUwLC_akD"
      },
      "source": [
        "X_train = X_train / 255.0\n",
        "X_test = X_test / 255.0"
      ],
      "execution_count": 28,
      "outputs": []
    },
    {
      "cell_type": "code",
      "metadata": {
        "id": "Q2A1OrRg_bD8",
        "outputId": "8d839995-242f-44cd-b205-66d2a61ebb30",
        "colab": {
          "base_uri": "https://localhost:8080/",
          "height": 34
        }
      },
      "source": [
        "X_train.shape"
      ],
      "execution_count": 29,
      "outputs": [
        {
          "output_type": "execute_result",
          "data": {
            "text/plain": [
              "(50000, 32, 32, 3)"
            ]
          },
          "metadata": {
            "tags": []
          },
          "execution_count": 29
        }
      ]
    },
    {
      "cell_type": "markdown",
      "metadata": {
        "id": "HO6nL_9sBLPo"
      },
      "source": [
        "## Paso 4: Definir el modelo\n",
        "\n",
        "NOTA: Vamos a usar el mismo modelo que creamos en la Sección de Redes Neuronales Convolucionales"
      ]
    },
    {
      "cell_type": "code",
      "metadata": {
        "id": "FHyAvU8OA_aq"
      },
      "source": [
        "model = tf.keras.models.Sequential()\n",
        "model.add(tf.keras.layers.Conv2D(filters=32, kernel_size=3, padding=\"same\", activation=\"relu\", input_shape=[32, 32, 3]))\n",
        "model.add(tf.keras.layers.Conv2D(filters=32, kernel_size=3, padding=\"same\", activation=\"relu\"))\n",
        "model.add(tf.keras.layers.MaxPool2D(pool_size=2, strides=2, padding='valid'))\n",
        "model.add(tf.keras.layers.Conv2D(filters=64, kernel_size=3, padding=\"same\", activation=\"relu\"))\n",
        "model.add(tf.keras.layers.Conv2D(filters=64, kernel_size=3, padding=\"same\", activation=\"relu\"))\n",
        "model.add(tf.keras.layers.MaxPool2D(pool_size=2, strides=2, padding='valid'))\n",
        "model.add(tf.keras.layers.Flatten())\n",
        "model.add(tf.keras.layers.Dense(units=128, activation='relu'))\n",
        "model.add(tf.keras.layers.Dense(units=10, activation='softmax'))"
      ],
      "execution_count": 30,
      "outputs": []
    },
    {
      "cell_type": "markdown",
      "metadata": {
        "id": "J-7vFhykBgMj"
      },
      "source": [
        "### Compilar el modelo"
      ]
    },
    {
      "cell_type": "code",
      "metadata": {
        "id": "5nqrVFn3BkeS"
      },
      "source": [
        "model.compile(optimizer='Adam', \n",
        "              loss='sparse_categorical_crossentropy', \n",
        "              metrics=['sparse_categorical_accuracy'])"
      ],
      "execution_count": 31,
      "outputs": []
    },
    {
      "cell_type": "markdown",
      "metadata": {
        "id": "JJ1X_hgBBmx9"
      },
      "source": [
        "###  Entrenar el modelo"
      ]
    },
    {
      "cell_type": "code",
      "metadata": {
        "id": "I7FSeHUkBpUq",
        "outputId": "8e605add-8ce4-4a70-f29d-79aef047574e",
        "colab": {
          "base_uri": "https://localhost:8080/",
          "height": 374
        }
      },
      "source": [
        "model.fit(X_train, \n",
        "          y_train, \n",
        "          batch_size=128, \n",
        "          epochs=10)"
      ],
      "execution_count": 32,
      "outputs": [
        {
          "output_type": "stream",
          "text": [
            "Epoch 1/10\n",
            "391/391 [==============================] - 3s 6ms/step - loss: 1.4902 - sparse_categorical_accuracy: 0.4621\n",
            "Epoch 2/10\n",
            "391/391 [==============================] - 2s 6ms/step - loss: 1.0557 - sparse_categorical_accuracy: 0.6277\n",
            "Epoch 3/10\n",
            "391/391 [==============================] - 3s 6ms/step - loss: 0.8649 - sparse_categorical_accuracy: 0.6989\n",
            "Epoch 4/10\n",
            "391/391 [==============================] - 3s 6ms/step - loss: 0.7352 - sparse_categorical_accuracy: 0.7451\n",
            "Epoch 5/10\n",
            "391/391 [==============================] - 3s 6ms/step - loss: 0.6386 - sparse_categorical_accuracy: 0.7763\n",
            "Epoch 6/10\n",
            "391/391 [==============================] - 3s 6ms/step - loss: 0.5608 - sparse_categorical_accuracy: 0.8033\n",
            "Epoch 7/10\n",
            "391/391 [==============================] - 3s 6ms/step - loss: 0.4823 - sparse_categorical_accuracy: 0.8305\n",
            "Epoch 8/10\n",
            "391/391 [==============================] - 3s 6ms/step - loss: 0.4110 - sparse_categorical_accuracy: 0.8541\n",
            "Epoch 9/10\n",
            "391/391 [==============================] - 3s 6ms/step - loss: 0.3427 - sparse_categorical_accuracy: 0.8787\n",
            "Epoch 10/10\n",
            "391/391 [==============================] - 3s 6ms/step - loss: 0.2819 - sparse_categorical_accuracy: 0.9010\n"
          ],
          "name": "stdout"
        },
        {
          "output_type": "execute_result",
          "data": {
            "text/plain": [
              "<tensorflow.python.keras.callbacks.History at 0x7f7c001f0780>"
            ]
          },
          "metadata": {
            "tags": []
          },
          "execution_count": 32
        }
      ]
    },
    {
      "cell_type": "markdown",
      "metadata": {
        "id": "g6k_gnv5BqdT"
      },
      "source": [
        "### Evaluar el modelo"
      ]
    },
    {
      "cell_type": "code",
      "metadata": {
        "id": "l0nHalVeBtAy",
        "outputId": "02224732-aa0b-4da9-967a-f259ed4773b4",
        "colab": {
          "base_uri": "https://localhost:8080/",
          "height": 34
        }
      },
      "source": [
        "test_loss, test_accuracy = model.evaluate(X_test, y_test)"
      ],
      "execution_count": 33,
      "outputs": [
        {
          "output_type": "stream",
          "text": [
            "313/313 [==============================] - 1s 2ms/step - loss: 0.9225 - sparse_categorical_accuracy: 0.7407\n"
          ],
          "name": "stdout"
        }
      ]
    },
    {
      "cell_type": "code",
      "metadata": {
        "id": "u9q7jsTuBuxT",
        "outputId": "cbd6dd7c-b894-49f2-82bc-07b300df2977",
        "colab": {
          "base_uri": "https://localhost:8080/",
          "height": 34
        }
      },
      "source": [
        "print(\"La precisión del modelo es de {} %\".format(test_accuracy*100.0))"
      ],
      "execution_count": 34,
      "outputs": [
        {
          "output_type": "stream",
          "text": [
            "La precisión del modelo es de 74.07000064849854 %\n"
          ],
          "name": "stdout"
        }
      ]
    },
    {
      "cell_type": "markdown",
      "metadata": {
        "id": "945L3-2rDjFe"
      },
      "source": [
        "## Paso 5: Guardar el modelo para subir a producción"
      ]
    },
    {
      "cell_type": "markdown",
      "metadata": {
        "id": "5a5uCiniDmgY"
      },
      "source": [
        "### Crear un directorio para el modelo"
      ]
    },
    {
      "cell_type": "code",
      "metadata": {
        "id": "YonroqRrC3sM"
      },
      "source": [
        "MODEL_DIR = \"model/\"\n",
        "version = 1"
      ],
      "execution_count": 15,
      "outputs": []
    },
    {
      "cell_type": "code",
      "metadata": {
        "id": "07NyMUGYEMNF",
        "outputId": "6f460b10-54cb-4217-c480-ec2b54233b1e",
        "colab": {
          "base_uri": "https://localhost:8080/",
          "height": 37
        }
      },
      "source": [
        "export_path = os.path.join(MODEL_DIR, str(version))\n",
        "export_path"
      ],
      "execution_count": 16,
      "outputs": [
        {
          "output_type": "execute_result",
          "data": {
            "application/vnd.google.colaboratory.intrinsic+json": {
              "type": "string"
            },
            "text/plain": [
              "'model/1'"
            ]
          },
          "metadata": {
            "tags": []
          },
          "execution_count": 16
        }
      ]
    },
    {
      "cell_type": "code",
      "metadata": {
        "id": "jln7YavbEczA"
      },
      "source": [
        "if os.path.isdir(export_path):\n",
        "    !rm -r {export_path}"
      ],
      "execution_count": 17,
      "outputs": []
    },
    {
      "cell_type": "markdown",
      "metadata": {
        "id": "0RA2HuIUDrDQ"
      },
      "source": [
        "### Guardar el modelo para TensorFlow Serving"
      ]
    },
    {
      "cell_type": "code",
      "metadata": {
        "id": "19DG8IkIDv4S",
        "outputId": "3429080e-cf79-468a-bec8-51adc9120d2e",
        "colab": {
          "base_uri": "https://localhost:8080/",
          "height": 170
        }
      },
      "source": [
        "#tf.saved_model.simple_save(tf.keras.backend.get_session(), export_dir=export_path, inputs={\"input_image\":model.input}, outputs={t.name:t for t in model.outputs})\n",
        "#tf.saved_model.save(model, export_path )\n",
        "print('export_path = {}\\n'.format(export_path))\n",
        "\n",
        "tf.keras.models.save_model(\n",
        "    model,\n",
        "    export_path,\n",
        "    overwrite=True,\n",
        "    include_optimizer=True,\n",
        "    save_format=None,\n",
        "    signatures=None,\n",
        "    options=None\n",
        ")\n",
        "\n",
        "print('\\nSaved model:')\n",
        "!ls -l {export_path}"
      ],
      "execution_count": 35,
      "outputs": [
        {
          "output_type": "stream",
          "text": [
            "export_path = model/1\n",
            "\n",
            "INFO:tensorflow:Assets written to: model/1/assets\n",
            "\n",
            "Saved model:\n",
            "total 180\n",
            "drwxr-xr-x 2 root root   4096 Oct  5 17:21 assets\n",
            "-rw-r--r-- 1 root root 173410 Oct  5 17:29 saved_model.pb\n",
            "drwxr-xr-x 2 root root   4096 Oct  5 17:29 variables\n"
          ],
          "name": "stdout"
        }
      ]
    },
    {
      "cell_type": "markdown",
      "metadata": {
        "id": "1o8BlXcBFvIm"
      },
      "source": [
        "## Paso 6: Configurar el entorno de producción"
      ]
    },
    {
      "cell_type": "markdown",
      "metadata": {
        "id": "rSFWzxOrF0ft"
      },
      "source": [
        "### Exportar el MODEL_DIR a las variables de entorno"
      ]
    },
    {
      "cell_type": "code",
      "metadata": {
        "id": "BS6wsQthLX_i"
      },
      "source": [
        "os.environ['MODEL_DIR'] = os.path.abspath(MODEL_DIR)"
      ],
      "execution_count": 36,
      "outputs": []
    },
    {
      "cell_type": "markdown",
      "metadata": {
        "id": "8TXejqj5F5oj"
      },
      "source": [
        "### Ejecutar la API REST de TensorFlow Serving"
      ]
    },
    {
      "cell_type": "code",
      "metadata": {
        "id": "oWjUhJA4KGWy",
        "outputId": "0d0328be-334b-46a3-c295-9016e296db02",
        "colab": {
          "base_uri": "https://localhost:8080/",
          "height": 34
        }
      },
      "source": [
        "%%bash --bg \n",
        "nohup tensorflow_model_server \\\n",
        "  --rest_api_port=8000 \\\n",
        "  --model_name=cifar10 \\\n",
        "  --model_base_path=\"${MODEL_DIR}\" >server.log 2>&1"
      ],
      "execution_count": 37,
      "outputs": [
        {
          "output_type": "stream",
          "text": [
            "Starting job # 2 in a separate thread.\n"
          ],
          "name": "stdout"
        }
      ]
    },
    {
      "cell_type": "code",
      "metadata": {
        "id": "iPa7fGZ5NHL5",
        "outputId": "964a2ba4-7c48-4c5b-90dc-1c7fa9480927",
        "colab": {
          "base_uri": "https://localhost:8080/",
          "height": 207
        }
      },
      "source": [
        "!tail server.log"
      ],
      "execution_count": 38,
      "outputs": [
        {
          "output_type": "stream",
          "text": [
            "To enable them in other operations, rebuild TensorFlow with the appropriate compiler flags.\n",
            "2020-10-05 17:29:41.103709: I external/org_tensorflow/tensorflow/cc/saved_model/loader.cc:199] Restoring SavedModel bundle.\n",
            "2020-10-05 17:29:41.144999: I external/org_tensorflow/tensorflow/cc/saved_model/loader.cc:183] Running initialization op on SavedModel bundle at path: /content/model/1\n",
            "2020-10-05 17:29:41.150494: I external/org_tensorflow/tensorflow/cc/saved_model/loader.cc:303] SavedModel load for tags { serve }; Status: success: OK. Took 64753 microseconds.\n",
            "2020-10-05 17:29:41.151288: I tensorflow_serving/servables/tensorflow/saved_model_warmup_util.cc:59] No warmup data file found at /content/model/1/assets.extra/tf_serving_warmup_requests\n",
            "2020-10-05 17:29:41.151386: I tensorflow_serving/core/loader_harness.cc:87] Successfully loaded servable version {name: cifar10 version: 1}\n",
            "2020-10-05 17:29:41.152351: I tensorflow_serving/model_servers/server.cc:367] Running gRPC ModelServer at 0.0.0.0:8500 ...\n",
            "[warn] getaddrinfo: address family for nodename not supported\n",
            "2020-10-05 17:29:41.153051: I tensorflow_serving/model_servers/server.cc:387] Exporting HTTP/REST API at:localhost:8000 ...\n",
            "[evhttp_server.cc : 238] NET_LOG: Entering the event loop ...\n"
          ],
          "name": "stdout"
        }
      ]
    },
    {
      "cell_type": "markdown",
      "metadata": {
        "id": "ICEqKpKUOC2F"
      },
      "source": [
        "## Paso 7: Crear nuestra primera petición por POST"
      ]
    },
    {
      "cell_type": "code",
      "metadata": {
        "id": "AvjZyyPIN3Zq",
        "outputId": "922134ce-b5f7-4ec1-f0bc-9af4cb81c389",
        "colab": {
          "base_uri": "https://localhost:8080/",
          "height": 34
        }
      },
      "source": [
        "random_image = np.random.randint(0, len(X_test))\n",
        "random_image"
      ],
      "execution_count": 39,
      "outputs": [
        {
          "output_type": "execute_result",
          "data": {
            "text/plain": [
              "6148"
            ]
          },
          "metadata": {
            "tags": []
          },
          "execution_count": 39
        }
      ]
    },
    {
      "cell_type": "markdown",
      "metadata": {
        "id": "tqOfIBMNOK8p"
      },
      "source": [
        "### Crear el objeto de datos en JSON"
      ]
    },
    {
      "cell_type": "code",
      "metadata": {
        "id": "nB57JR6wONOI"
      },
      "source": [
        "data = json.dumps({\"signature_name\":\"serving_default\", \"instances\":[X_test[random_image].tolist()]})"
      ],
      "execution_count": 40,
      "outputs": []
    },
    {
      "cell_type": "code",
      "metadata": {
        "id": "ez6JF3yIPdYZ",
        "outputId": "dc63f89c-5a91-46e8-85d8-914f2a4c5e6c",
        "colab": {
          "base_uri": "https://localhost:8080/",
          "height": 140
        }
      },
      "source": [
        "data"
      ],
      "execution_count": 41,
      "outputs": [
        {
          "output_type": "execute_result",
          "data": {
            "application/vnd.google.colaboratory.intrinsic+json": {
              "type": "string"
            },
            "text/plain": [
              "'{\"signature_name\": \"serving_default\", \"instances\": [[[[0.47843137254901963, 0.5372549019607843, 0.4549019607843137], [0.5529411764705883, 0.611764705882353, 0.5294117647058824], [0.4470588235294118, 0.5058823529411764, 0.4196078431372549], [0.403921568627451, 0.4666666666666667, 0.3803921568627451], [0.44313725490196076, 0.5058823529411764, 0.42745098039215684], [0.39215686274509803, 0.4588235294117647, 0.3764705882352941], [0.27058823529411763, 0.33725490196078434, 0.25882352941176473], [0.19215686274509805, 0.2549019607843137, 0.16470588235294117], [0.19215686274509805, 0.2549019607843137, 0.14901960784313725], [0.20392156862745098, 0.27450980392156865, 0.16862745098039217], [0.30980392156862746, 0.396078431372549, 0.29411764705882354], [0.34509803921568627, 0.42745098039215684, 0.3176470588235294], [0.3764705882352941, 0.44313725490196076, 0.30980392156862746], [0.3803921568627451, 0.44313725490196076, 0.33725490196078434], [0.3411764705882353, 0.4, 0.3137254901960784], [0.35294117647058826, 0.41568627450980394, 0.30980392156862746], [0.3607843137254902, 0.43137254901960786, 0.30980392156862746], [0.3176470588235294, 0.39215686274509803, 0.27058823529411763], [0.30980392156862746, 0.3803921568627451, 0.27058823529411763], [0.29411764705882354, 0.36470588235294116, 0.2627450980392157], [0.23921568627450981, 0.30980392156862746, 0.20392156862745098], [0.29411764705882354, 0.36470588235294116, 0.2627450980392157], [0.34509803921568627, 0.41568627450980394, 0.3137254901960784], [0.3058823529411765, 0.3764705882352941, 0.2784313725490196], [0.21176470588235294, 0.2784313725490196, 0.19607843137254902], [0.23921568627450981, 0.3058823529411765, 0.23529411764705882], [0.30196078431372547, 0.3686274509803922, 0.2901960784313726], [0.2784313725490196, 0.34509803921568627, 0.2549019607843137], [0.24705882352941178, 0.3137254901960784, 0.2235294117647059], [0.25882352941176473, 0.3176470588235294, 0.23137254901960785], [0.2980392156862745, 0.3568627450980392, 0.2627450980392157], [0.3058823529411765, 0.3686274509803922, 0.26666666666666666]], [[0.32941176470588235, 0.39215686274509803, 0.2823529411764706], [0.3215686274509804, 0.3843137254901961, 0.2901960784313726], [0.27058823529411763, 0.3254901960784314, 0.24313725490196078], [0.25882352941176473, 0.3176470588235294, 0.23137254901960785], [0.2901960784313726, 0.34509803921568627, 0.2627450980392157], [0.30196078431372547, 0.3568627450980392, 0.27450980392156865], [0.21568627450980393, 0.27450980392156865, 0.19215686274509805], [0.19607843137254902, 0.2549019607843137, 0.16470588235294117], [0.2196078431372549, 0.2823529411764706, 0.1843137254901961], [0.2823529411764706, 0.35294117647058826, 0.25098039215686274], [0.34509803921568627, 0.43137254901960786, 0.3215686274509804], [0.4, 0.48627450980392156, 0.3686274509803922], [0.34901960784313724, 0.4196078431372549, 0.2901960784313726], [0.34509803921568627, 0.4117647058823529, 0.30980392156862746], [0.3333333333333333, 0.396078431372549, 0.30196078431372547], [0.30196078431372547, 0.3686274509803922, 0.25882352941176473], [0.3764705882352941, 0.45098039215686275, 0.32941176470588235], [0.30980392156862746, 0.3843137254901961, 0.27058823529411763], [0.3176470588235294, 0.39215686274509803, 0.28627450980392155], [0.30196078431372547, 0.37254901960784315, 0.27450980392156865], [0.2823529411764706, 0.3568627450980392, 0.25882352941176473], [0.3411764705882353, 0.41568627450980394, 0.3137254901960784], [0.2823529411764706, 0.35294117647058826, 0.25098039215686274], [0.25882352941176473, 0.32941176470588235, 0.2235294117647059], [0.1607843137254902, 0.23137254901960785, 0.1411764705882353], [0.19607843137254902, 0.2627450980392157, 0.19215686274509805], [0.3215686274509804, 0.38823529411764707, 0.30980392156862746], [0.2823529411764706, 0.35294117647058826, 0.2627450980392157], [0.2823529411764706, 0.34901960784313724, 0.25882352941176473], [0.2549019607843137, 0.3176470588235294, 0.23137254901960785], [0.27450980392156865, 0.3333333333333333, 0.24313725490196078], [0.27058823529411763, 0.3333333333333333, 0.23137254901960785]], [[0.30196078431372547, 0.36470588235294116, 0.24313725490196078], [0.30196078431372547, 0.3607843137254902, 0.25882352941176473], [0.2235294117647059, 0.2823529411764706, 0.2], [0.2, 0.25098039215686274, 0.19215686274509805], [0.2235294117647059, 0.27058823529411763, 0.2196078431372549], [0.23529411764705882, 0.2823529411764706, 0.23137254901960785], [0.1843137254901961, 0.23137254901960785, 0.1803921568627451], [0.18823529411764706, 0.23921568627450981, 0.17647058823529413], [0.2823529411764706, 0.3411764705882353, 0.2549019607843137], [0.34901960784313724, 0.4196078431372549, 0.3215686274509804], [0.30980392156862746, 0.396078431372549, 0.28627450980392155], [0.3254901960784314, 0.41568627450980394, 0.2901960784313726], [0.3411764705882353, 0.4196078431372549, 0.29411764705882354], [0.3058823529411765, 0.3803921568627451, 0.2784313725490196], [0.32941176470588235, 0.403921568627451, 0.30196078431372547], [0.29411764705882354, 0.3686274509803922, 0.24705882352941178], [0.3568627450980392, 0.43137254901960786, 0.3137254901960784], [0.2980392156862745, 0.37254901960784315, 0.26666666666666666], [0.30196078431372547, 0.37254901960784315, 0.27450980392156865], [0.2549019607843137, 0.3254901960784314, 0.23529411764705882], [0.2627450980392157, 0.3333333333333333, 0.24705882352941178], [0.2823529411764706, 0.35294117647058826, 0.25882352941176473], [0.21568627450980393, 0.28627450980392155, 0.1843137254901961], [0.2980392156862745, 0.37254901960784315, 0.25882352941176473], [0.27058823529411763, 0.3411764705882353, 0.24313725490196078], [0.20392156862745098, 0.27058823529411763, 0.2], [0.27058823529411763, 0.33725490196078434, 0.25882352941176473], [0.2549019607843137, 0.3254901960784314, 0.23529411764705882], [0.2823529411764706, 0.35294117647058826, 0.2627450980392157], [0.2823529411764706, 0.3411764705882353, 0.26666666666666666], [0.27058823529411763, 0.32941176470588235, 0.24705882352941178], [0.2980392156862745, 0.3607843137254902, 0.26666666666666666]], [[0.21176470588235294, 0.2784313725490196, 0.16470588235294117], [0.23529411764705882, 0.2980392156862745, 0.2], [0.2627450980392157, 0.3215686274509804, 0.23529411764705882], [0.15294117647058825, 0.2, 0.15294117647058825], [0.11764705882352941, 0.15294117647058825, 0.13333333333333333], [0.10980392156862745, 0.14901960784313725, 0.12941176470588237], [0.12941176470588237, 0.16862745098039217, 0.14901960784313725], [0.1843137254901961, 0.22745098039215686, 0.18823529411764706], [0.27058823529411763, 0.32941176470588235, 0.25098039215686274], [0.29411764705882354, 0.36470588235294116, 0.26666666666666666], [0.26666666666666666, 0.35294117647058826, 0.23529411764705882], [0.34901960784313724, 0.4392156862745098, 0.3058823529411765], [0.3254901960784314, 0.41568627450980394, 0.29411764705882354], [0.2549019607843137, 0.3411764705882353, 0.23921568627450981], [0.34509803921568627, 0.43529411764705883, 0.3215686274509804], [0.3686274509803922, 0.4588235294117647, 0.3215686274509804], [0.3764705882352941, 0.4549019607843137, 0.33725490196078434], [0.30980392156862746, 0.3803921568627451, 0.2784313725490196], [0.2823529411764706, 0.35294117647058826, 0.2627450980392157], [0.2196078431372549, 0.2901960784313726, 0.20392156862745098], [0.2, 0.26666666666666666, 0.19215686274509805], [0.20392156862745098, 0.27058823529411763, 0.18823529411764706], [0.2235294117647059, 0.29411764705882354, 0.19215686274509805], [0.3607843137254902, 0.43529411764705883, 0.3137254901960784], [0.32941176470588235, 0.403921568627451, 0.2980392156862745], [0.21176470588235294, 0.2784313725490196, 0.20784313725490197], [0.2627450980392157, 0.32941176470588235, 0.2549019607843137], [0.32941176470588235, 0.4, 0.30980392156862746], [0.2901960784313726, 0.3607843137254902, 0.27058823529411763], [0.23529411764705882, 0.29411764705882354, 0.2235294117647059], [0.25882352941176473, 0.3176470588235294, 0.23921568627450981], [0.29411764705882354, 0.35294117647058826, 0.26666666666666666]], [[0.12549019607843137, 0.1843137254901961, 0.10196078431372549], [0.19215686274509805, 0.25098039215686274, 0.16862745098039217], [0.29411764705882354, 0.35294117647058826, 0.2627450980392157], [0.2196078431372549, 0.2627450980392157, 0.19607843137254902], [0.09803921568627451, 0.13333333333333333, 0.08235294117647059], [0.16470588235294117, 0.2, 0.1450980392156863], [0.20784313725490197, 0.24313725490196078, 0.18823529411764706], [0.19215686274509805, 0.23529411764705882, 0.17647058823529413], [0.20784313725490197, 0.2627450980392157, 0.19215686274509805], [0.2823529411764706, 0.35294117647058826, 0.25882352941176473], [0.3411764705882353, 0.43137254901960786, 0.3058823529411765], [0.396078431372549, 0.49019607843137253, 0.34901960784313724], [0.25098039215686274, 0.34509803921568627, 0.22745098039215686], [0.23529411764705882, 0.3254901960784314, 0.22745098039215686], [0.33725490196078434, 0.42745098039215684, 0.3176470588235294], [0.396078431372549, 0.49019607843137253, 0.34901960784313724], [0.34901960784313724, 0.42745098039215684, 0.30980392156862746], [0.2627450980392157, 0.3333333333333333, 0.23921568627450981], [0.26666666666666666, 0.3333333333333333, 0.24705882352941178], [0.23529411764705882, 0.30196078431372547, 0.22745098039215686], [0.20392156862745098, 0.27058823529411763, 0.20392156862745098], [0.28627450980392155, 0.35294117647058826, 0.27450980392156865], [0.27450980392156865, 0.34509803921568627, 0.24313725490196078], [0.3176470588235294, 0.39215686274509803, 0.2627450980392157], [0.3058823529411765, 0.3803921568627451, 0.26666666666666666], [0.16470588235294117, 0.23137254901960785, 0.1607843137254902], [0.20784313725490197, 0.27450980392156865, 0.2], [0.29411764705882354, 0.36470588235294116, 0.27450980392156865], [0.21176470588235294, 0.2823529411764706, 0.19215686274509805], [0.21176470588235294, 0.27058823529411763, 0.20392156862745098], [0.27450980392156865, 0.32941176470588235, 0.25882352941176473], [0.27058823529411763, 0.32941176470588235, 0.24705882352941178]], [[0.1843137254901961, 0.24313725490196078, 0.16470588235294117], [0.22745098039215686, 0.2901960784313726, 0.19607843137254902], [0.30980392156862746, 0.3764705882352941, 0.26666666666666666], [0.33725490196078434, 0.396078431372549, 0.29411764705882354], [0.21176470588235294, 0.26666666666666666, 0.17254901960784313], [0.29411764705882354, 0.34901960784313724, 0.24705882352941178], [0.3176470588235294, 0.37254901960784315, 0.27450980392156865], [0.2784313725490196, 0.3333333333333333, 0.25098039215686274], [0.25098039215686274, 0.30980392156862746, 0.23529411764705882], [0.2784313725490196, 0.34509803921568627, 0.24705882352941178], [0.3568627450980392, 0.4392156862745098, 0.3176470588235294], [0.3411764705882353, 0.42745098039215684, 0.2980392156862745], [0.2784313725490196, 0.3568627450980392, 0.25098039215686274], [0.3058823529411765, 0.38823529411764707, 0.28627450980392155], [0.3333333333333333, 0.4235294117647059, 0.3058823529411765], [0.34901960784313724, 0.44313725490196076, 0.30196078431372547], [0.3137254901960784, 0.39215686274509803, 0.2784313725490196], [0.2235294117647059, 0.29411764705882354, 0.19607843137254902], [0.24313725490196078, 0.3176470588235294, 0.2235294117647059], [0.23137254901960785, 0.3058823529411765, 0.2196078431372549], [0.20392156862745098, 0.2784313725490196, 0.19607843137254902], [0.23529411764705882, 0.30980392156862746, 0.22745098039215686], [0.28627450980392155, 0.3607843137254902, 0.25882352941176473], [0.3411764705882353, 0.4196078431372549, 0.29411764705882354], [0.2980392156862745, 0.37254901960784315, 0.26666666666666666], [0.18823529411764706, 0.24313725490196078, 0.1803921568627451], [0.16470588235294117, 0.2235294117647059, 0.1568627450980392], [0.25882352941176473, 0.3176470588235294, 0.23921568627450981], [0.2, 0.25882352941176473, 0.1843137254901961], [0.17254901960784313, 0.23137254901960785, 0.1607843137254902], [0.24705882352941178, 0.30980392156862746, 0.23137254901960785], [0.27058823529411763, 0.3333333333333333, 0.24313725490196078]], [[0.2784313725490196, 0.33725490196078434, 0.23529411764705882], [0.27450980392156865, 0.34509803921568627, 0.23137254901960785], [0.2980392156862745, 0.3764705882352941, 0.24705882352941178], [0.3607843137254902, 0.4392156862745098, 0.3176470588235294], [0.3411764705882353, 0.41568627450980394, 0.30980392156862746], [0.24313725490196078, 0.3137254901960784, 0.21568627450980393], [0.21568627450980393, 0.28627450980392155, 0.19607843137254902], [0.2627450980392157, 0.3254901960784314, 0.25098039215686274], [0.29411764705882354, 0.35294117647058826, 0.27450980392156865], [0.2901960784313726, 0.35294117647058826, 0.24705882352941178], [0.3215686274509804, 0.39215686274509803, 0.27450980392156865], [0.2784313725490196, 0.34509803921568627, 0.24313725490196078], [0.27450980392156865, 0.33725490196078434, 0.23921568627450981], [0.23921568627450981, 0.3137254901960784, 0.20784313725490197], [0.2901960784313726, 0.3764705882352941, 0.2549019607843137], [0.30196078431372547, 0.396078431372549, 0.2627450980392157], [0.23137254901960785, 0.3137254901960784, 0.19607843137254902], [0.1843137254901961, 0.26666666666666666, 0.1568627450980392], [0.25882352941176473, 0.34509803921568627, 0.23529411764705882], [0.3254901960784314, 0.4117647058823529, 0.2980392156862745], [0.30980392156862746, 0.396078431372549, 0.2901960784313726], [0.2235294117647059, 0.30980392156862746, 0.20784313725490197], [0.30980392156862746, 0.396078431372549, 0.2901960784313726], [0.3411764705882353, 0.42745098039215684, 0.3137254901960784], [0.29411764705882354, 0.36470588235294116, 0.27450980392156865], [0.19607843137254902, 0.24313725490196078, 0.19215686274509805], [0.19215686274509805, 0.23921568627450981, 0.1843137254901961], [0.24313725490196078, 0.2901960784313726, 0.23529411764705882], [0.20392156862745098, 0.2549019607843137, 0.19215686274509805], [0.20392156862745098, 0.27058823529411763, 0.1803921568627451], [0.29411764705882354, 0.36470588235294116, 0.26666666666666666], [0.3215686274509804, 0.39215686274509803, 0.28627450980392155]], [[0.25098039215686274, 0.3058823529411765, 0.21568627450980393], [0.24313725490196078, 0.3137254901960784, 0.21176470588235294], [0.32941176470588235, 0.40784313725490196, 0.2901960784313726], [0.34509803921568627, 0.41568627450980394, 0.3137254901960784], [0.26666666666666666, 0.3254901960784314, 0.23921568627450981], [0.2, 0.25882352941176473, 0.1843137254901961], [0.12941176470588237, 0.18823529411764706, 0.11764705882352941], [0.13333333333333333, 0.18823529411764706, 0.12941176470588237], [0.13333333333333333, 0.18823529411764706, 0.11764705882352941], [0.2196078431372549, 0.2823529411764706, 0.1803921568627451], [0.2549019607843137, 0.3176470588235294, 0.21176470588235294], [0.24313725490196078, 0.3058823529411765, 0.21568627450980393], [0.2980392156862745, 0.3607843137254902, 0.2627450980392157], [0.1843137254901961, 0.2549019607843137, 0.14901960784313725], [0.2235294117647059, 0.3137254901960784, 0.19215686274509805], [0.3176470588235294, 0.41568627450980394, 0.2823529411764706], [0.2784313725490196, 0.3803921568627451, 0.24313725490196078], [0.25098039215686274, 0.34901960784313724, 0.2235294117647059], [0.27058823529411763, 0.3568627450980392, 0.24313725490196078], [0.24313725490196078, 0.3137254901960784, 0.21568627450980393], [0.3176470588235294, 0.4, 0.29411764705882354], [0.30196078431372547, 0.39215686274509803, 0.2823529411764706], [0.25098039215686274, 0.3411764705882353, 0.23137254901960785], [0.24313725490196078, 0.3333333333333333, 0.2235294117647059], [0.28627450980392155, 0.3568627450980392, 0.26666666666666666], [0.24705882352941178, 0.29411764705882354, 0.23137254901960785], [0.23137254901960785, 0.2823529411764706, 0.21568627450980393], [0.25098039215686274, 0.30196078431372547, 0.23529411764705882], [0.25098039215686274, 0.30196078431372547, 0.23137254901960785], [0.3058823529411765, 0.3764705882352941, 0.2784313725490196], [0.3764705882352941, 0.4470588235294118, 0.3411764705882353], [0.3215686274509804, 0.396078431372549, 0.2784313725490196]], [[0.16862745098039217, 0.2235294117647059, 0.15294117647058825], [0.24705882352941178, 0.3137254901960784, 0.23137254901960785], [0.28627450980392155, 0.36470588235294116, 0.26666666666666666], [0.2196078431372549, 0.2784313725490196, 0.18823529411764706], [0.11372549019607843, 0.1568627450980392, 0.08627450980392157], [0.18823529411764706, 0.23529411764705882, 0.17254901960784313], [0.14901960784313725, 0.19215686274509805, 0.13725490196078433], [0.12549019607843137, 0.16862745098039217, 0.12156862745098039], [0.12941176470588237, 0.18823529411764706, 0.12156862745098039], [0.20392156862745098, 0.2627450980392157, 0.17254901960784313], [0.2784313725490196, 0.3411764705882353, 0.24313725490196078], [0.2235294117647059, 0.2823529411764706, 0.20392156862745098], [0.20784313725490197, 0.27058823529411763, 0.17647058823529413], [0.24313725490196078, 0.3137254901960784, 0.20392156862745098], [0.23137254901960785, 0.3176470588235294, 0.19607843137254902], [0.33725490196078434, 0.43137254901960786, 0.2980392156862745], [0.30196078431372547, 0.4235294117647059, 0.2627450980392157], [0.2627450980392157, 0.3764705882352941, 0.23137254901960785], [0.25098039215686274, 0.3333333333333333, 0.22745098039215686], [0.11372549019607843, 0.16862745098039217, 0.09411764705882353], [0.2, 0.26666666666666666, 0.17647058823529413], [0.21176470588235294, 0.30196078431372547, 0.19215686274509805], [0.2196078431372549, 0.3058823529411765, 0.2], [0.23529411764705882, 0.32941176470588235, 0.21568627450980393], [0.27450980392156865, 0.35294117647058826, 0.25098039215686274], [0.27058823529411763, 0.32941176470588235, 0.24313725490196078], [0.20784313725490197, 0.26666666666666666, 0.1803921568627451], [0.19607843137254902, 0.2549019607843137, 0.16862745098039217], [0.23921568627450981, 0.30196078431372547, 0.21176470588235294], [0.3333333333333333, 0.403921568627451, 0.30196078431372547], [0.36470588235294116, 0.43529411764705883, 0.3254901960784314], [0.2901960784313726, 0.36470588235294116, 0.24313725490196078]], [[0.16862745098039217, 0.2196078431372549, 0.1607843137254902], [0.21568627450980393, 0.2784313725490196, 0.20784313725490197], [0.16862745098039217, 0.24313725490196078, 0.1568627450980392], [0.18823529411764706, 0.25098039215686274, 0.1607843137254902], [0.16470588235294117, 0.21176470588235294, 0.13333333333333333], [0.1568627450980392, 0.20392156862745098, 0.13333333333333333], [0.19607843137254902, 0.23921568627450981, 0.1803921568627451], [0.20784313725490197, 0.25882352941176473, 0.20392156862745098], [0.23137254901960785, 0.28627450980392155, 0.21568627450980393], [0.3137254901960784, 0.3764705882352941, 0.2784313725490196], [0.30980392156862746, 0.37254901960784315, 0.27058823529411763], [0.18823529411764706, 0.24705882352941178, 0.1607843137254902], [0.12549019607843137, 0.1843137254901961, 0.09019607843137255], [0.2, 0.27058823529411763, 0.1607843137254902], [0.25882352941176473, 0.34509803921568627, 0.2235294117647059], [0.3254901960784314, 0.4235294117647059, 0.28627450980392155], [0.37254901960784315, 0.49411764705882355, 0.32941176470588235], [0.23921568627450981, 0.35294117647058826, 0.20784313725490197], [0.24705882352941178, 0.3254901960784314, 0.2196078431372549], [0.23921568627450981, 0.28627450980392155, 0.21568627450980393], [0.25098039215686274, 0.3215686274509804, 0.23137254901960785], [0.26666666666666666, 0.3568627450980392, 0.24705882352941178], [0.27058823529411763, 0.3607843137254902, 0.25098039215686274], [0.24705882352941178, 0.33725490196078434, 0.22745098039215686], [0.3058823529411765, 0.38823529411764707, 0.2784313725490196], [0.33725490196078434, 0.40784313725490196, 0.2980392156862745], [0.3137254901960784, 0.3843137254901961, 0.2784313725490196], [0.30196078431372547, 0.37254901960784315, 0.2627450980392157], [0.2784313725490196, 0.34901960784313724, 0.24313725490196078], [0.34509803921568627, 0.4196078431372549, 0.30980392156862746], [0.37254901960784315, 0.4470588235294118, 0.32941176470588235], [0.3803921568627451, 0.4549019607843137, 0.3254901960784314]], [[0.1607843137254902, 0.21568627450980393, 0.14901960784313725], [0.16862745098039217, 0.23529411764705882, 0.1568627450980392], [0.25882352941176473, 0.3333333333333333, 0.24313725490196078], [0.2823529411764706, 0.35294117647058826, 0.24705882352941178], [0.2980392156862745, 0.3568627450980392, 0.2549019607843137], [0.23921568627450981, 0.2980392156862745, 0.20392156862745098], [0.16470588235294117, 0.2235294117647059, 0.1411764705882353], [0.1803921568627451, 0.23921568627450981, 0.16470588235294117], [0.23137254901960785, 0.2901960784313726, 0.20392156862745098], [0.32941176470588235, 0.39215686274509803, 0.2784313725490196], [0.2784313725490196, 0.34509803921568627, 0.2235294117647059], [0.1803921568627451, 0.24313725490196078, 0.1411764705882353], [0.22745098039215686, 0.28627450980392155, 0.18823529411764706], [0.23137254901960785, 0.2980392156862745, 0.19215686274509805], [0.2549019607843137, 0.3411764705882353, 0.2196078431372549], [0.2980392156862745, 0.396078431372549, 0.2627450980392157], [0.30196078431372547, 0.4117647058823529, 0.26666666666666666], [0.2235294117647059, 0.32941176470588235, 0.19607843137254902], [0.21568627450980393, 0.29411764705882354, 0.18823529411764706], [0.26666666666666666, 0.3333333333333333, 0.24313725490196078], [0.28627450980392155, 0.36470588235294116, 0.2627450980392157], [0.2901960784313726, 0.3803921568627451, 0.27058823529411763], [0.20784313725490197, 0.2980392156862745, 0.18823529411764706], [0.21568627450980393, 0.3058823529411765, 0.19607843137254902], [0.2901960784313726, 0.3764705882352941, 0.25882352941176473], [0.3686274509803922, 0.4470588235294118, 0.3176470588235294], [0.3764705882352941, 0.4549019607843137, 0.3254901960784314], [0.3764705882352941, 0.4549019607843137, 0.3254901960784314], [0.403921568627451, 0.4823529411764706, 0.35294117647058826], [0.3764705882352941, 0.45098039215686275, 0.3333333333333333], [0.3411764705882353, 0.41568627450980394, 0.2901960784313726], [0.3843137254901961, 0.4627450980392157, 0.3254901960784314]], [[0.20784313725490197, 0.2627450980392157, 0.1843137254901961], [0.20784313725490197, 0.27450980392156865, 0.18823529411764706], [0.24313725490196078, 0.3215686274509804, 0.2196078431372549], [0.3176470588235294, 0.396078431372549, 0.27450980392156865], [0.37254901960784315, 0.45098039215686275, 0.3254901960784314], [0.30196078431372547, 0.3764705882352941, 0.2627450980392157], [0.26666666666666666, 0.33725490196078434, 0.23529411764705882], [0.23137254901960785, 0.2980392156862745, 0.2], [0.30196078431372547, 0.36470588235294116, 0.25882352941176473], [0.34901960784313724, 0.41568627450980394, 0.2823529411764706], [0.27450980392156865, 0.3411764705882353, 0.2], [0.20392156862745098, 0.27058823529411763, 0.15294117647058825], [0.2627450980392157, 0.3254901960784314, 0.2235294117647059], [0.2823529411764706, 0.35294117647058826, 0.24313725490196078], [0.2823529411764706, 0.3686274509803922, 0.24705882352941178], [0.28627450980392155, 0.3803921568627451, 0.24705882352941178], [0.23529411764705882, 0.3254901960784314, 0.20392156862745098], [0.23529411764705882, 0.3215686274509804, 0.20784313725490197], [0.21176470588235294, 0.2980392156862745, 0.1843137254901961], [0.25098039215686274, 0.33725490196078434, 0.2196078431372549], [0.23137254901960785, 0.3176470588235294, 0.20784313725490197], [0.23921568627450981, 0.32941176470588235, 0.2196078431372549], [0.2, 0.2901960784313726, 0.1803921568627451], [0.19607843137254902, 0.28627450980392155, 0.1803921568627451], [0.25098039215686274, 0.3411764705882353, 0.21568627450980393], [0.34901960784313724, 0.43529411764705883, 0.2901960784313726], [0.3411764705882353, 0.43137254901960786, 0.2823529411764706], [0.3568627450980392, 0.44313725490196076, 0.29411764705882354], [0.396078431372549, 0.4823529411764706, 0.33725490196078434], [0.34509803921568627, 0.4235294117647059, 0.2980392156862745], [0.3254901960784314, 0.403921568627451, 0.27058823529411763], [0.32941176470588235, 0.40784313725490196, 0.2627450980392157]], [[0.17254901960784313, 0.22745098039215686, 0.14901960784313725], [0.1843137254901961, 0.2549019607843137, 0.1607843137254902], [0.23921568627450981, 0.3176470588235294, 0.21176470588235294], [0.25882352941176473, 0.35294117647058826, 0.21568627450980393], [0.2901960784313726, 0.3764705882352941, 0.24313725490196078], [0.24705882352941178, 0.3176470588235294, 0.21176470588235294], [0.2549019607843137, 0.3176470588235294, 0.21176470588235294], [0.25098039215686274, 0.3137254901960784, 0.2], [0.29411764705882354, 0.3568627450980392, 0.23529411764705882], [0.3215686274509804, 0.38823529411764707, 0.25098039215686274], [0.2823529411764706, 0.34901960784313724, 0.21176470588235294], [0.27058823529411763, 0.3333333333333333, 0.21176470588235294], [0.24705882352941178, 0.30196078431372547, 0.20392156862745098], [0.2549019607843137, 0.3215686274509804, 0.20784313725490197], [0.25882352941176473, 0.34509803921568627, 0.21176470588235294], [0.2980392156862745, 0.38823529411764707, 0.25098039215686274], [0.23921568627450981, 0.3137254901960784, 0.21176470588235294], [0.22745098039215686, 0.3215686274509804, 0.20784313725490197], [0.2784313725490196, 0.39215686274509803, 0.25098039215686274], [0.2235294117647059, 0.30980392156862746, 0.17647058823529413], [0.1568627450980392, 0.22745098039215686, 0.12156862745098039], [0.18823529411764706, 0.2784313725490196, 0.17647058823529413], [0.21568627450980393, 0.3215686274509804, 0.20784313725490197], [0.20784313725490197, 0.3176470588235294, 0.2], [0.2549019607843137, 0.35294117647058826, 0.22745098039215686], [0.3333333333333333, 0.43137254901960786, 0.28627450980392155], [0.30196078431372547, 0.40784313725490196, 0.2549019607843137], [0.30196078431372547, 0.403921568627451, 0.25098039215686274], [0.33725490196078434, 0.43529411764705883, 0.2823529411764706], [0.29411764705882354, 0.3764705882352941, 0.24705882352941178], [0.27058823529411763, 0.34901960784313724, 0.2196078431372549], [0.26666666666666666, 0.34901960784313724, 0.21176470588235294]], [[0.24313725490196078, 0.30196078431372547, 0.2235294117647059], [0.22745098039215686, 0.29411764705882354, 0.20392156862745098], [0.21176470588235294, 0.29411764705882354, 0.18823529411764706], [0.2235294117647059, 0.3176470588235294, 0.17647058823529413], [0.2627450980392157, 0.3411764705882353, 0.21568627450980393], [0.28627450980392155, 0.34509803921568627, 0.25098039215686274], [0.2627450980392157, 0.3137254901960784, 0.20784313725490197], [0.33725490196078434, 0.38823529411764707, 0.2627450980392157], [0.35294117647058826, 0.41568627450980394, 0.2901960784313726], [0.34509803921568627, 0.4117647058823529, 0.28627450980392155], [0.2549019607843137, 0.3215686274509804, 0.19607843137254902], [0.30196078431372547, 0.36470588235294116, 0.24705882352941178], [0.22745098039215686, 0.2784313725490196, 0.1803921568627451], [0.21568627450980393, 0.27450980392156865, 0.16470588235294117], [0.25882352941176473, 0.3411764705882353, 0.20392156862745098], [0.26666666666666666, 0.35294117647058826, 0.21568627450980393], [0.27058823529411763, 0.3411764705882353, 0.23921568627450981], [0.2235294117647059, 0.3333333333333333, 0.20784313725490197], [0.2235294117647059, 0.35294117647058826, 0.2], [0.24705882352941178, 0.3254901960784314, 0.2], [0.24313725490196078, 0.29411764705882354, 0.20392156862745098], [0.2, 0.28627450980392155, 0.19607843137254902], [0.2, 0.3176470588235294, 0.20392156862745098], [0.21568627450980393, 0.33725490196078434, 0.21176470588235294], [0.23921568627450981, 0.3411764705882353, 0.2196078431372549], [0.2784313725490196, 0.37254901960784315, 0.24705882352941178], [0.2627450980392157, 0.37254901960784315, 0.23529411764705882], [0.24313725490196078, 0.3568627450980392, 0.20392156862745098], [0.2627450980392157, 0.36470588235294116, 0.21568627450980393], [0.27450980392156865, 0.35294117647058826, 0.23137254901960785], [0.2549019607843137, 0.32941176470588235, 0.21176470588235294], [0.25098039215686274, 0.3254901960784314, 0.20392156862745098]], [[0.21176470588235294, 0.2627450980392157, 0.1843137254901961], [0.26666666666666666, 0.32941176470588235, 0.23921568627450981], [0.28627450980392155, 0.36470588235294116, 0.25882352941176473], [0.2980392156862745, 0.3843137254901961, 0.24313725490196078], [0.3843137254901961, 0.4666666666666667, 0.3254901960784314], [0.3764705882352941, 0.4470588235294118, 0.3215686274509804], [0.33725490196078434, 0.4, 0.2627450980392157], [0.3568627450980392, 0.4235294117647059, 0.2823529411764706], [0.3411764705882353, 0.4117647058823529, 0.27450980392156865], [0.35294117647058826, 0.4235294117647059, 0.2901960784313726], [0.3411764705882353, 0.40784313725490196, 0.27450980392156865], [0.25882352941176473, 0.3215686274509804, 0.2], [0.23137254901960785, 0.28627450980392155, 0.19215686274509805], [0.20784313725490197, 0.27058823529411763, 0.17254901960784313], [0.23529411764705882, 0.3058823529411765, 0.19607843137254902], [0.26666666666666666, 0.34509803921568627, 0.22745098039215686], [0.24705882352941178, 0.32941176470588235, 0.21568627450980393], [0.22745098039215686, 0.3411764705882353, 0.20392156862745098], [0.20784313725490197, 0.3254901960784314, 0.1843137254901961], [0.2901960784313726, 0.3568627450980392, 0.25882352941176473], [0.23137254901960785, 0.27058823529411763, 0.20392156862745098], [0.16470588235294117, 0.23137254901960785, 0.15294117647058825], [0.1843137254901961, 0.2784313725490196, 0.1803921568627451], [0.20784313725490197, 0.30196078431372547, 0.19607843137254902], [0.24705882352941178, 0.3215686274509804, 0.21568627450980393], [0.26666666666666666, 0.3333333333333333, 0.22745098039215686], [0.3137254901960784, 0.39215686274509803, 0.27450980392156865], [0.33725490196078434, 0.43137254901960786, 0.29411764705882354], [0.2823529411764706, 0.3803921568627451, 0.24313725490196078], [0.3058823529411765, 0.37254901960784315, 0.26666666666666666], [0.23921568627450981, 0.2980392156862745, 0.19607843137254902], [0.24705882352941178, 0.3058823529411765, 0.20392156862745098]], [[0.21176470588235294, 0.25882352941176473, 0.1803921568627451], [0.21568627450980393, 0.27058823529411763, 0.1803921568627451], [0.29411764705882354, 0.36470588235294116, 0.25882352941176473], [0.30980392156862746, 0.38823529411764707, 0.25882352941176473], [0.3411764705882353, 0.4235294117647059, 0.27450980392156865], [0.3764705882352941, 0.4588235294117647, 0.30980392156862746], [0.40784313725490196, 0.48627450980392156, 0.32941176470588235], [0.3607843137254902, 0.4392156862745098, 0.2823529411764706], [0.38823529411764707, 0.4666666666666667, 0.3215686274509804], [0.44313725490196076, 0.5215686274509804, 0.3803921568627451], [0.40784313725490196, 0.48627450980392156, 0.3411764705882353], [0.30196078431372547, 0.3764705882352941, 0.24313725490196078], [0.23529411764705882, 0.2980392156862745, 0.20784313725490197], [0.1803921568627451, 0.23921568627450981, 0.14901960784313725], [0.17647058823529413, 0.23921568627450981, 0.1450980392156863], [0.2235294117647059, 0.29411764705882354, 0.19607843137254902], [0.26666666666666666, 0.34509803921568627, 0.23137254901960785], [0.27058823529411763, 0.3686274509803922, 0.23529411764705882], [0.23921568627450981, 0.3254901960784314, 0.20392156862745098], [0.28627450980392155, 0.3254901960784314, 0.2549019607843137], [0.23921568627450981, 0.2627450980392157, 0.21568627450980393], [0.1450980392156863, 0.19215686274509805, 0.13333333333333333], [0.19607843137254902, 0.2627450980392157, 0.18823529411764706], [0.21176470588235294, 0.26666666666666666, 0.1843137254901961], [0.29411764705882354, 0.3333333333333333, 0.25098039215686274], [0.3176470588235294, 0.35294117647058826, 0.27058823529411763], [0.3764705882352941, 0.4117647058823529, 0.3176470588235294], [0.39215686274509803, 0.4549019607843137, 0.34509803921568627], [0.3764705882352941, 0.4627450980392157, 0.3411764705882353], [0.40784313725490196, 0.4666666666666667, 0.36470588235294116], [0.30980392156862746, 0.3686274509803922, 0.26666666666666666], [0.36470588235294116, 0.4235294117647059, 0.3215686274509804]], [[0.20784313725490197, 0.24705882352941178, 0.17254901960784313], [0.24313725490196078, 0.29411764705882354, 0.20784313725490197], [0.2980392156862745, 0.3607843137254902, 0.25882352941176473], [0.28627450980392155, 0.3607843137254902, 0.24705882352941178], [0.3215686274509804, 0.403921568627451, 0.27058823529411763], [0.3803921568627451, 0.47058823529411764, 0.3137254901960784], [0.39215686274509803, 0.49019607843137253, 0.3176470588235294], [0.3843137254901961, 0.47843137254901963, 0.3176470588235294], [0.4549019607843137, 0.5450980392156862, 0.39215686274509803], [0.4745098039215686, 0.5647058823529412, 0.4117647058823529], [0.39215686274509803, 0.48627450980392156, 0.3333333333333333], [0.34509803921568627, 0.43137254901960786, 0.28627450980392155], [0.25882352941176473, 0.33725490196078434, 0.22745098039215686], [0.21176470588235294, 0.2784313725490196, 0.1803921568627451], [0.2, 0.25882352941176473, 0.16470588235294117], [0.19607843137254902, 0.2549019607843137, 0.16470588235294117], [0.32941176470588235, 0.396078431372549, 0.29411764705882354], [0.38823529411764707, 0.4549019607843137, 0.3411764705882353], [0.3411764705882353, 0.3843137254901961, 0.28627450980392155], [0.43529411764705883, 0.43529411764705883, 0.3803921568627451], [0.3764705882352941, 0.37254901960784315, 0.34509803921568627], [0.25098039215686274, 0.2784313725490196, 0.23921568627450981], [0.23921568627450981, 0.27450980392156865, 0.2235294117647059], [0.24313725490196078, 0.25882352941176473, 0.20392156862745098], [0.30980392156862746, 0.3137254901960784, 0.25882352941176473], [0.33725490196078434, 0.3333333333333333, 0.27450980392156865], [0.34509803921568627, 0.3333333333333333, 0.27058823529411763], [0.3568627450980392, 0.38823529411764707, 0.30196078431372547], [0.4549019607843137, 0.5372549019607843, 0.42745098039215684], [0.5372549019607843, 0.611764705882353, 0.49411764705882355], [0.5215686274509804, 0.592156862745098, 0.47843137254901963], [0.4980392156862745, 0.5686274509803921, 0.45098039215686275]], [[0.15294117647058825, 0.1843137254901961, 0.11372549019607843], [0.2, 0.24705882352941178, 0.1607843137254902], [0.2784313725490196, 0.33725490196078434, 0.23529411764705882], [0.28627450980392155, 0.34901960784313724, 0.25882352941176473], [0.36470588235294116, 0.44313725490196076, 0.32941176470588235], [0.4392156862745098, 0.5333333333333333, 0.3764705882352941], [0.43137254901960786, 0.5372549019607843, 0.37254901960784315], [0.42745098039215684, 0.5333333333333333, 0.37254901960784315], [0.4470588235294118, 0.5450980392156862, 0.3843137254901961], [0.43137254901960786, 0.5294117647058824, 0.3686274509803922], [0.43137254901960786, 0.5294117647058824, 0.3686274509803922], [0.3843137254901961, 0.4823529411764706, 0.3254901960784314], [0.36470588235294116, 0.45098039215686275, 0.3137254901960784], [0.2784313725490196, 0.3568627450980392, 0.23529411764705882], [0.3215686274509804, 0.3803921568627451, 0.2784313725490196], [0.2784313725490196, 0.32941176470588235, 0.23921568627450981], [0.3176470588235294, 0.3607843137254902, 0.28627450980392155], [0.4235294117647059, 0.45098039215686275, 0.3686274509803922], [0.4549019607843137, 0.44313725490196076, 0.36470588235294116], [0.5019607843137255, 0.4588235294117647, 0.40784313725490196], [0.34901960784313724, 0.3254901960784314, 0.3058823529411765], [0.27058823529411763, 0.27450980392156865, 0.2549019607843137], [0.24313725490196078, 0.25098039215686274, 0.2196078431372549], [0.30980392156862746, 0.2901960784313726, 0.2549019607843137], [0.35294117647058826, 0.3176470588235294, 0.28627450980392155], [0.34509803921568627, 0.3058823529411765, 0.27450980392156865], [0.34509803921568627, 0.29411764705882354, 0.25882352941176473], [0.33725490196078434, 0.3411764705882353, 0.2784313725490196], [0.5215686274509804, 0.596078431372549, 0.49411764705882355], [0.5607843137254902, 0.6588235294117647, 0.5176470588235295], [0.5843137254901961, 0.6784313725490196, 0.5333333333333333], [0.5490196078431373, 0.6431372549019608, 0.4980392156862745]], [[0.24313725490196078, 0.27450980392156865, 0.20392156862745098], [0.25098039215686274, 0.29411764705882354, 0.20784313725490197], [0.20784313725490197, 0.25882352941176473, 0.1607843137254902], [0.19215686274509805, 0.24705882352941178, 0.16862745098039217], [0.2549019607843137, 0.3333333333333333, 0.23137254901960785], [0.4392156862745098, 0.5411764705882353, 0.38823529411764707], [0.49019607843137253, 0.6039215686274509, 0.44313725490196076], [0.49019607843137253, 0.6039215686274509, 0.44313725490196076], [0.4470588235294118, 0.5490196078431373, 0.3803921568627451], [0.49019607843137253, 0.5882352941176471, 0.4196078431372549], [0.5568627450980392, 0.6549019607843137, 0.48627450980392156], [0.5647058823529412, 0.6588235294117647, 0.49411764705882355], [0.5686274509803921, 0.6627450980392157, 0.5019607843137255], [0.4470588235294118, 0.5254901960784314, 0.3843137254901961], [0.4745098039215686, 0.5333333333333333, 0.4196078431372549], [0.4470588235294118, 0.4823529411764706, 0.396078431372549], [0.26666666666666666, 0.2823529411764706, 0.23921568627450981], [0.3686274509803922, 0.35294117647058826, 0.3058823529411765], [0.47058823529411764, 0.4235294117647059, 0.3607843137254902], [0.36470588235294116, 0.30196078431372547, 0.25098039215686274], [0.2549019607843137, 0.2196078431372549, 0.2], [0.2549019607843137, 0.25098039215686274, 0.23921568627450981], [0.24313725490196078, 0.23921568627450981, 0.21568627450980393], [0.32941176470588235, 0.29411764705882354, 0.27450980392156865], [0.396078431372549, 0.34509803921568627, 0.32941176470588235], [0.36470588235294116, 0.3137254901960784, 0.28627450980392155], [0.3607843137254902, 0.29411764705882354, 0.26666666666666666], [0.28627450980392155, 0.2784313725490196, 0.22745098039215686], [0.47843137254901963, 0.5529411764705883, 0.45098039215686275], [0.5882352941176471, 0.6980392156862745, 0.5411764705882353], [0.5647058823529412, 0.6745098039215687, 0.5137254901960784], [0.5686274509803921, 0.6784313725490196, 0.5176470588235295]], [[0.2823529411764706, 0.3333333333333333, 0.23921568627450981], [0.27058823529411763, 0.33725490196078434, 0.23529411764705882], [0.20392156862745098, 0.24705882352941178, 0.15294117647058825], [0.27058823529411763, 0.3215686274509804, 0.21568627450980393], [0.3058823529411765, 0.396078431372549, 0.25882352941176473], [0.5058823529411764, 0.6235294117647059, 0.4588235294117647], [0.5529411764705883, 0.6705882352941176, 0.4980392156862745], [0.5607843137254902, 0.6745098039215687, 0.49411764705882355], [0.5333333333333333, 0.6392156862745098, 0.4549019607843137], [0.5843137254901961, 0.6823529411764706, 0.5019607843137255], [0.6078431372549019, 0.6980392156862745, 0.5176470588235295], [0.6588235294117647, 0.7490196078431373, 0.5686274509803921], [0.6509803921568628, 0.7372549019607844, 0.5568627450980392], [0.6196078431372549, 0.6862745098039216, 0.5450980392156862], [0.43529411764705883, 0.4549019607843137, 0.36470588235294116], [0.35294117647058826, 0.3333333333333333, 0.28627450980392155], [0.27058823529411763, 0.23529411764705882, 0.23137254901960785], [0.35294117647058826, 0.30980392156862746, 0.30196078431372547], [0.34509803921568627, 0.3058823529411765, 0.27450980392156865], [0.19607843137254902, 0.1803921568627451, 0.1411764705882353], [0.24313725490196078, 0.23921568627450981, 0.21568627450980393], [0.2901960784313726, 0.27058823529411763, 0.2549019607843137], [0.28627450980392155, 0.29411764705882354, 0.2627450980392157], [0.33725490196078434, 0.3215686274509804, 0.3058823529411765], [0.38823529411764707, 0.3254901960784314, 0.3176470588235294], [0.35294117647058826, 0.2980392156862745, 0.26666666666666666], [0.3215686274509804, 0.27058823529411763, 0.23921568627450981], [0.2627450980392157, 0.25882352941176473, 0.2], [0.5254901960784314, 0.5843137254901961, 0.4745098039215686], [0.6196078431372549, 0.7058823529411765, 0.5647058823529412], [0.5490196078431373, 0.6392156862745098, 0.49411764705882355], [0.5607843137254902, 0.6509803921568628, 0.5058823529411764]], [[0.3215686274509804, 0.403921568627451, 0.2784313725490196], [0.2823529411764706, 0.37254901960784315, 0.24313725490196078], [0.30196078431372547, 0.36470588235294116, 0.24705882352941178], [0.36470588235294116, 0.43137254901960786, 0.2980392156862745], [0.35294117647058826, 0.45098039215686275, 0.2901960784313726], [0.43529411764705883, 0.5647058823529412, 0.3843137254901961], [0.5137254901960784, 0.6392156862745098, 0.45098039215686275], [0.5254901960784314, 0.6431372549019608, 0.45098039215686275], [0.48627450980392156, 0.611764705882353, 0.41568627450980394], [0.5215686274509804, 0.6392156862745098, 0.44313725490196076], [0.5490196078431373, 0.6509803921568628, 0.4627450980392157], [0.5803921568627451, 0.6823529411764706, 0.49019607843137253], [0.5764705882352941, 0.6705882352941176, 0.49019607843137253], [0.615686274509804, 0.6431372549019608, 0.5254901960784314], [0.41568627450980394, 0.4, 0.3333333333333333], [0.23137254901960785, 0.21568627450980393, 0.16470588235294117], [0.20392156862745098, 0.2, 0.1568627450980392], [0.23921568627450981, 0.2235294117647059, 0.19607843137254902], [0.23529411764705882, 0.20392156862745098, 0.18823529411764706], [0.16470588235294117, 0.15294117647058825, 0.1450980392156863], [0.2823529411764706, 0.2784313725490196, 0.2627450980392157], [0.3411764705882353, 0.30196078431372547, 0.28627450980392155], [0.2980392156862745, 0.29411764705882354, 0.26666666666666666], [0.3254901960784314, 0.3137254901960784, 0.29411764705882354], [0.3568627450980392, 0.2980392156862745, 0.28627450980392155], [0.2901960784313726, 0.24705882352941178, 0.2196078431372549], [0.2549019607843137, 0.2196078431372549, 0.18823529411764706], [0.28627450980392155, 0.2823529411764706, 0.2196078431372549], [0.5450980392156862, 0.6, 0.47843137254901963], [0.5764705882352941, 0.6627450980392157, 0.5137254901960784], [0.5411764705882353, 0.6313725490196078, 0.47843137254901963], [0.5372549019607843, 0.6235294117647059, 0.47058823529411764]], [[0.3411764705882353, 0.45098039215686275, 0.2901960784313726], [0.3686274509803922, 0.4823529411764706, 0.3176470588235294], [0.40784313725490196, 0.5058823529411764, 0.34901960784313724], [0.43137254901960786, 0.5215686274509804, 0.3686274509803922], [0.36470588235294116, 0.47843137254901963, 0.30980392156862746], [0.3607843137254902, 0.5019607843137255, 0.3137254901960784], [0.4196078431372549, 0.5607843137254902, 0.3607843137254902], [0.4392156862745098, 0.5764705882352941, 0.37254901960784315], [0.40784313725490196, 0.5607843137254902, 0.34901960784313724], [0.43529411764705883, 0.5803921568627451, 0.37254901960784315], [0.47058823529411764, 0.6, 0.396078431372549], [0.4627450980392157, 0.596078431372549, 0.39215686274509803], [0.5137254901960784, 0.6235294117647059, 0.4470588235294118], [0.5333333333333333, 0.5294117647058824, 0.4392156862745098], [0.36470588235294116, 0.3254901960784314, 0.27450980392156865], [0.19215686274509805, 0.22745098039215686, 0.13725490196078433], [0.23137254901960785, 0.30980392156862746, 0.18823529411764706], [0.21568627450980393, 0.25098039215686274, 0.17254901960784313], [0.16470588235294117, 0.1450980392156863, 0.13333333333333333], [0.19215686274509805, 0.1568627450980392, 0.1803921568627451], [0.33725490196078434, 0.30980392156862746, 0.30196078431372547], [0.33725490196078434, 0.2784313725490196, 0.26666666666666666], [0.21568627450980393, 0.19215686274509805, 0.16862745098039217], [0.2, 0.19215686274509805, 0.15294117647058825], [0.2196078431372549, 0.1843137254901961, 0.1568627450980392], [0.1568627450980392, 0.13725490196078433, 0.11764705882352941], [0.2, 0.17254901960784313, 0.14901960784313725], [0.28627450980392155, 0.28627450980392155, 0.21568627450980393], [0.5176470588235295, 0.5725490196078431, 0.4392156862745098], [0.5254901960784314, 0.6274509803921569, 0.45098039215686275], [0.5137254901960784, 0.6196078431372549, 0.43529411764705883], [0.5098039215686274, 0.611764705882353, 0.43137254901960786]], [[0.35294117647058826, 0.4823529411764706, 0.2901960784313726], [0.3764705882352941, 0.4980392156862745, 0.3137254901960784], [0.41568627450980394, 0.5411764705882353, 0.35294117647058826], [0.4196078431372549, 0.5372549019607843, 0.3607843137254902], [0.3843137254901961, 0.5137254901960784, 0.3333333333333333], [0.3568627450980392, 0.5137254901960784, 0.3137254901960784], [0.39215686274509803, 0.5450980392156862, 0.33725490196078434], [0.4117647058823529, 0.5686274509803921, 0.35294117647058826], [0.3686274509803922, 0.5372549019607843, 0.3137254901960784], [0.403921568627451, 0.5686274509803921, 0.34509803921568627], [0.4470588235294118, 0.6, 0.3803921568627451], [0.42745098039215684, 0.5803921568627451, 0.3607843137254902], [0.4196078431372549, 0.5411764705882353, 0.3686274509803922], [0.4, 0.39215686274509803, 0.3137254901960784], [0.2901960784313726, 0.27058823529411763, 0.20784313725490197], [0.2823529411764706, 0.3764705882352941, 0.23529411764705882], [0.4549019607843137, 0.596078431372549, 0.4], [0.4392156862745098, 0.5215686274509804, 0.39215686274509803], [0.2235294117647059, 0.23529411764705882, 0.2], [0.1450980392156863, 0.12549019607843137, 0.12549019607843137], [0.23137254901960785, 0.20784313725490197, 0.17647058823529413], [0.3215686274509804, 0.2627450980392157, 0.23137254901960785], [0.17647058823529413, 0.1607843137254902, 0.12156862745098039], [0.11372549019607843, 0.1411764705882353, 0.06274509803921569], [0.1568627450980392, 0.16862745098039217, 0.09803921568627451], [0.10588235294117647, 0.11764705882352941, 0.0784313725490196], [0.16470588235294117, 0.1568627450980392, 0.12156862745098039], [0.27450980392156865, 0.2784313725490196, 0.20392156862745098], [0.5019607843137255, 0.5529411764705883, 0.4117647058823529], [0.5176470588235295, 0.6352941176470588, 0.43137254901960786], [0.5254901960784314, 0.6470588235294118, 0.4392156862745098], [0.48627450980392156, 0.6078431372549019, 0.403921568627451]], [[0.36470588235294116, 0.49019607843137253, 0.29411764705882354], [0.32941176470588235, 0.4470588235294118, 0.2549019607843137], [0.3568627450980392, 0.49411764705882355, 0.2980392156862745], [0.3686274509803922, 0.4980392156862745, 0.30980392156862746], [0.37254901960784315, 0.5137254901960784, 0.3215686274509804], [0.35294117647058826, 0.5254901960784314, 0.3137254901960784], [0.3764705882352941, 0.5450980392156862, 0.3254901960784314], [0.3803921568627451, 0.5529411764705883, 0.3254901960784314], [0.3764705882352941, 0.5529411764705883, 0.3215686274509804], [0.39215686274509803, 0.5607843137254902, 0.32941176470588235], [0.4392156862745098, 0.596078431372549, 0.3686274509803922], [0.45098039215686275, 0.6078431372549019, 0.3843137254901961], [0.3764705882352941, 0.5019607843137255, 0.3176470588235294], [0.20784313725490197, 0.24705882352941178, 0.14901960784313725], [0.35294117647058826, 0.396078431372549, 0.2901960784313726], [0.4470588235294118, 0.5882352941176471, 0.3843137254901961], [0.4627450980392157, 0.6196078431372549, 0.3843137254901961], [0.34509803921568627, 0.4470588235294118, 0.29411764705882354], [0.12156862745098039, 0.17254901960784313, 0.09411764705882353], [0.11372549019607843, 0.1568627450980392, 0.0784313725490196], [0.20392156862745098, 0.23529411764705882, 0.12941176470588237], [0.3058823529411765, 0.2784313725490196, 0.20392156862745098], [0.36470588235294116, 0.3843137254901961, 0.30196078431372547], [0.3686274509803922, 0.4666666666666667, 0.3137254901960784], [0.45098039215686275, 0.5372549019607843, 0.3843137254901961], [0.25098039215686274, 0.30196078431372547, 0.21568627450980393], [0.21568627450980393, 0.23137254901960785, 0.16470588235294117], [0.3215686274509804, 0.32941176470588235, 0.24313725490196078], [0.5098039215686274, 0.5568627450980392, 0.41568627450980394], [0.5176470588235295, 0.6470588235294118, 0.43529411764705883], [0.4980392156862745, 0.6352941176470588, 0.41568627450980394], [0.4588235294117647, 0.596078431372549, 0.3764705882352941]], [[0.3843137254901961, 0.5019607843137255, 0.30980392156862746], [0.3411764705882353, 0.44313725490196076, 0.2627450980392157], [0.3176470588235294, 0.45098039215686275, 0.25882352941176473], [0.35294117647058826, 0.49019607843137253, 0.2980392156862745], [0.35294117647058826, 0.5058823529411764, 0.30196078431372547], [0.3568627450980392, 0.5411764705882353, 0.3215686274509804], [0.3803921568627451, 0.5607843137254902, 0.3333333333333333], [0.37254901960784315, 0.5450980392156862, 0.30980392156862746], [0.396078431372549, 0.5725490196078431, 0.3333333333333333], [0.396078431372549, 0.5607843137254902, 0.3254901960784314], [0.396078431372549, 0.5529411764705883, 0.3215686274509804], [0.44313725490196076, 0.5882352941176471, 0.3568627450980392], [0.4196078431372549, 0.5411764705882353, 0.34509803921568627], [0.3137254901960784, 0.4196078431372549, 0.28627450980392155], [0.4117647058823529, 0.5372549019607843, 0.3803921568627451], [0.4627450980392157, 0.6313725490196078, 0.3803921568627451], [0.4117647058823529, 0.5490196078431373, 0.30980392156862746], [0.27450980392156865, 0.3686274509803922, 0.20784313725490197], [0.2235294117647059, 0.30980392156862746, 0.17647058823529413], [0.3686274509803922, 0.48627450980392156, 0.30196078431372547], [0.4666666666666667, 0.5686274509803921, 0.37254901960784315], [0.32941176470588235, 0.34901960784313724, 0.2235294117647059], [0.37254901960784315, 0.44313725490196076, 0.30980392156862746], [0.42745098039215684, 0.6, 0.3764705882352941], [0.4823529411764706, 0.6392156862745098, 0.403921568627451], [0.403921568627451, 0.48627450980392156, 0.3333333333333333], [0.36470588235294116, 0.4, 0.29411764705882354], [0.4117647058823529, 0.4235294117647059, 0.32941176470588235], [0.44313725490196076, 0.48627450980392156, 0.35294117647058826], [0.44313725490196076, 0.5764705882352941, 0.37254901960784315], [0.41568627450980394, 0.5647058823529412, 0.34901960784313724], [0.3843137254901961, 0.5294117647058824, 0.3137254901960784]], [[0.3607843137254902, 0.4666666666666667, 0.28627450980392155], [0.3686274509803922, 0.47058823529411764, 0.29411764705882354], [0.3254901960784314, 0.45098039215686275, 0.26666666666666666], [0.3254901960784314, 0.4588235294117647, 0.2627450980392157], [0.34509803921568627, 0.49411764705882355, 0.2823529411764706], [0.3568627450980392, 0.5294117647058824, 0.2980392156862745], [0.3843137254901961, 0.5607843137254902, 0.3215686274509804], [0.38823529411764707, 0.5568627450980392, 0.3176470588235294], [0.4235294117647059, 0.5882352941176471, 0.3411764705882353], [0.4196078431372549, 0.5803921568627451, 0.3254901960784314], [0.4235294117647059, 0.5803921568627451, 0.32941176470588235], [0.43529411764705883, 0.5764705882352941, 0.33725490196078434], [0.4549019607843137, 0.5764705882352941, 0.3568627450980392], [0.4627450980392157, 0.6039215686274509, 0.41568627450980394], [0.43137254901960786, 0.596078431372549, 0.37254901960784315], [0.44313725490196076, 0.611764705882353, 0.3333333333333333], [0.403921568627451, 0.5215686274509804, 0.2980392156862745], [0.43137254901960786, 0.5333333333333333, 0.36470588235294116], [0.4549019607843137, 0.5843137254901961, 0.4], [0.4666666666666667, 0.6313725490196078, 0.38823529411764707], [0.5098039215686274, 0.6549019607843137, 0.403921568627451], [0.34901960784313724, 0.396078431372549, 0.23921568627450981], [0.33725490196078434, 0.4235294117647059, 0.2823529411764706], [0.3843137254901961, 0.5725490196078431, 0.3333333333333333], [0.3803921568627451, 0.5725490196078431, 0.30980392156862746], [0.47843137254901963, 0.5607843137254902, 0.4], [0.4980392156862745, 0.5254901960784314, 0.40784313725490196], [0.4117647058823529, 0.4666666666666667, 0.34901960784313724], [0.45098039215686275, 0.47843137254901963, 0.35294117647058826], [0.4, 0.5058823529411764, 0.32941176470588235], [0.34901960784313724, 0.5098039215686274, 0.2980392156862745], [0.33725490196078434, 0.5098039215686274, 0.28627450980392155]], [[0.3607843137254902, 0.4549019607843137, 0.2823529411764706], [0.38823529411764707, 0.48627450980392156, 0.3176470588235294], [0.3764705882352941, 0.49019607843137253, 0.3137254901960784], [0.3607843137254902, 0.47843137254901963, 0.2823529411764706], [0.3843137254901961, 0.5098039215686274, 0.29411764705882354], [0.3764705882352941, 0.5176470588235295, 0.29411764705882354], [0.396078431372549, 0.5490196078431373, 0.3137254901960784], [0.396078431372549, 0.5490196078431373, 0.3176470588235294], [0.43529411764705883, 0.592156862745098, 0.34509803921568627], [0.45098039215686275, 0.611764705882353, 0.33725490196078434], [0.47843137254901963, 0.6352941176470588, 0.36470588235294116], [0.4627450980392157, 0.611764705882353, 0.3686274509803922], [0.4745098039215686, 0.6039215686274509, 0.38823529411764707], [0.4745098039215686, 0.6078431372549019, 0.38823529411764707], [0.45098039215686275, 0.6, 0.3568627450980392], [0.4588235294117647, 0.6039215686274509, 0.34901960784313724], [0.4117647058823529, 0.5176470588235295, 0.30196078431372547], [0.4470588235294118, 0.5725490196078431, 0.3568627450980392], [0.4627450980392157, 0.6235294117647059, 0.3803921568627451], [0.47058823529411764, 0.6431372549019608, 0.3764705882352941], [0.5098039215686274, 0.6705882352941176, 0.38823529411764707], [0.4, 0.47058823529411764, 0.2784313725490196], [0.4, 0.4823529411764706, 0.3333333333333333], [0.4117647058823529, 0.5803921568627451, 0.34901960784313724], [0.3843137254901961, 0.5803921568627451, 0.3176470588235294], [0.48627450980392156, 0.5529411764705883, 0.3843137254901961], [0.5058823529411764, 0.5215686274509804, 0.37254901960784315], [0.4, 0.5411764705882353, 0.33725490196078434], [0.5137254901960784, 0.5411764705882353, 0.3803921568627451], [0.4392156862745098, 0.49019607843137253, 0.34901960784313724], [0.34509803921568627, 0.5098039215686274, 0.2980392156862745], [0.34901960784313724, 0.5490196078431373, 0.30980392156862746]], [[0.3568627450980392, 0.42745098039215684, 0.27450980392156865], [0.36470588235294116, 0.45098039215686275, 0.29411764705882354], [0.34901960784313724, 0.4470588235294118, 0.28627450980392155], [0.37254901960784315, 0.47058823529411764, 0.29411764705882354], [0.39215686274509803, 0.5019607843137255, 0.30980392156862746], [0.3764705882352941, 0.4980392156862745, 0.2980392156862745], [0.4, 0.5294117647058824, 0.3254901960784314], [0.38823529411764707, 0.5254901960784314, 0.3254901960784314], [0.40784313725490196, 0.5450980392156862, 0.33725490196078434], [0.44313725490196076, 0.5882352941176471, 0.3568627450980392], [0.4745098039215686, 0.615686274509804, 0.39215686274509803], [0.45098039215686275, 0.5843137254901961, 0.39215686274509803], [0.4549019607843137, 0.5843137254901961, 0.4235294117647059], [0.47843137254901963, 0.611764705882353, 0.4549019607843137], [0.4549019607843137, 0.5882352941176471, 0.43137254901960786], [0.4549019607843137, 0.5843137254901961, 0.42745098039215684], [0.44313725490196076, 0.5333333333333333, 0.35294117647058826], [0.5058823529411764, 0.611764705882353, 0.40784313725490196], [0.4745098039215686, 0.615686274509804, 0.396078431372549], [0.47843137254901963, 0.6235294117647059, 0.396078431372549], [0.47058823529411764, 0.6313725490196078, 0.41568627450980394], [0.4117647058823529, 0.5058823529411764, 0.3411764705882353], [0.4117647058823529, 0.5019607843137255, 0.34901960784313724], [0.43529411764705883, 0.5882352941176471, 0.4], [0.40784313725490196, 0.5843137254901961, 0.3764705882352941], [0.4666666666666667, 0.5372549019607843, 0.36470588235294116], [0.4588235294117647, 0.5019607843137255, 0.32941176470588235], [0.42745098039215684, 0.615686274509804, 0.3803921568627451], [0.4980392156862745, 0.5686274509803921, 0.3843137254901961], [0.47058823529411764, 0.5254901960784314, 0.396078431372549], [0.3843137254901961, 0.5411764705882353, 0.35294117647058826], [0.3686274509803922, 0.5647058823529412, 0.35294117647058826]], [[0.30196078431372547, 0.3607843137254902, 0.22745098039215686], [0.2980392156862745, 0.36470588235294116, 0.23137254901960785], [0.2784313725490196, 0.35294117647058826, 0.21568627450980393], [0.28627450980392155, 0.3686274509803922, 0.21568627450980393], [0.3254901960784314, 0.41568627450980394, 0.2549019607843137], [0.3333333333333333, 0.43529411764705883, 0.2784313725490196], [0.3568627450980392, 0.4627450980392157, 0.30980392156862746], [0.34901960784313724, 0.47058823529411764, 0.3215686274509804], [0.3686274509803922, 0.49411764705882355, 0.34509803921568627], [0.4, 0.5294117647058824, 0.3764705882352941], [0.44313725490196076, 0.5686274509803921, 0.42745098039215684], [0.4549019607843137, 0.5843137254901961, 0.4627450980392157], [0.47058823529411764, 0.6078431372549019, 0.5215686274509804], [0.5098039215686274, 0.6431372549019608, 0.5764705882352941], [0.45098039215686275, 0.5764705882352941, 0.5294117647058824], [0.4627450980392157, 0.5725490196078431, 0.5450980392156862], [0.5254901960784314, 0.6078431372549019, 0.596078431372549], [0.6078431372549019, 0.7058823529411765, 0.6862745098039216], [0.5254901960784314, 0.6470588235294118, 0.6196078431372549], [0.3607843137254902, 0.47843137254901963, 0.4549019607843137], [0.3137254901960784, 0.4588235294117647, 0.4549019607843137], [0.3176470588235294, 0.40784313725490196, 0.403921568627451], [0.3254901960784314, 0.403921568627451, 0.37254901960784315], [0.3333333333333333, 0.45098039215686275, 0.43529411764705883], [0.30196078431372547, 0.43137254901960786, 0.4235294117647059], [0.3764705882352941, 0.43529411764705883, 0.4117647058823529], [0.3803921568627451, 0.4235294117647059, 0.396078431372549], [0.30196078431372547, 0.4745098039215686, 0.396078431372549], [0.3803921568627451, 0.47843137254901963, 0.41568627450980394], [0.42745098039215684, 0.49019607843137253, 0.4196078431372549], [0.3411764705882353, 0.4823529411764706, 0.37254901960784315], [0.3254901960784314, 0.49019607843137253, 0.3686274509803922]], [[0.24705882352941178, 0.30196078431372547, 0.19215686274509805], [0.24313725490196078, 0.3058823529411765, 0.19607843137254902], [0.24313725490196078, 0.3137254901960784, 0.20392156862745098], [0.24705882352941178, 0.3215686274509804, 0.20392156862745098], [0.2823529411764706, 0.3686274509803922, 0.24705882352941178], [0.29411764705882354, 0.38823529411764707, 0.27450980392156865], [0.29411764705882354, 0.396078431372549, 0.29411764705882354], [0.3058823529411765, 0.4235294117647059, 0.3254901960784314], [0.3568627450980392, 0.49019607843137253, 0.403921568627451], [0.403921568627451, 0.5333333333333333, 0.4666666666666667], [0.45098039215686275, 0.5764705882352941, 0.5215686274509804], [0.47843137254901963, 0.611764705882353, 0.5647058823529412], [0.5215686274509804, 0.6745098039215687, 0.6549019607843137], [0.5450980392156862, 0.6823529411764706, 0.6823529411764706], [0.4392156862745098, 0.5607843137254902, 0.5803921568627451], [0.4588235294117647, 0.5647058823529412, 0.6078431372549019], [0.47058823529411764, 0.5725490196078431, 0.6549019607843137], [0.4745098039215686, 0.6, 0.6823529411764706], [0.4392156862745098, 0.5843137254901961, 0.6470588235294118], [0.3411764705882353, 0.4745098039215686, 0.5372549019607843], [0.32941176470588235, 0.47058823529411764, 0.5372549019607843], [0.2980392156862745, 0.3764705882352941, 0.41568627450980394], [0.2980392156862745, 0.36470588235294116, 0.3686274509803922], [0.30196078431372547, 0.403921568627451, 0.4392156862745098], [0.2823529411764706, 0.3843137254901961, 0.45098039215686275], [0.3215686274509804, 0.3686274509803922, 0.4235294117647059], [0.3058823529411765, 0.34509803921568627, 0.39215686274509803], [0.24705882352941178, 0.3764705882352941, 0.3843137254901961], [0.30196078431372547, 0.396078431372549, 0.403921568627451], [0.33725490196078434, 0.403921568627451, 0.403921568627451], [0.2980392156862745, 0.4196078431372549, 0.40784313725490196], [0.2901960784313726, 0.42745098039215684, 0.4117647058823529]], [[0.2235294117647059, 0.2823529411764706, 0.19215686274509805], [0.2196078431372549, 0.29411764705882354, 0.19607843137254902], [0.2235294117647059, 0.3058823529411765, 0.20784313725490197], [0.23529411764705882, 0.3215686274509804, 0.2196078431372549], [0.26666666666666666, 0.3568627450980392, 0.2627450980392157], [0.27450980392156865, 0.37254901960784315, 0.29411764705882354], [0.2823529411764706, 0.38823529411764707, 0.32941176470588235], [0.28627450980392155, 0.40784313725490196, 0.3568627450980392], [0.33725490196078434, 0.48627450980392156, 0.45098039215686275], [0.40784313725490196, 0.5490196078431373, 0.5529411764705883], [0.4588235294117647, 0.596078431372549, 0.615686274509804], [0.49411764705882355, 0.6392156862745098, 0.6509803921568628], [0.5137254901960784, 0.6784313725490196, 0.6980392156862745], [0.5254901960784314, 0.6745098039215687, 0.7058823529411765], [0.5137254901960784, 0.6431372549019608, 0.6823529411764706], [0.5803921568627451, 0.6901960784313725, 0.7372549019607844], [0.5490196078431373, 0.6627450980392157, 0.7137254901960784], [0.44313725490196076, 0.5803921568627451, 0.6039215686274509], [0.36470588235294116, 0.5176470588235295, 0.5058823529411764], [0.32941176470588235, 0.4627450980392157, 0.43529411764705883], [0.34901960784313724, 0.4745098039215686, 0.4392156862745098], [0.29411764705882354, 0.3568627450980392, 0.30980392156862746], [0.26666666666666666, 0.32941176470588235, 0.25882352941176473], [0.2549019607843137, 0.3686274509803922, 0.3058823529411765], [0.23137254901960785, 0.3333333333333333, 0.2980392156862745], [0.24705882352941178, 0.30196078431372547, 0.27450980392156865], [0.24705882352941178, 0.2823529411764706, 0.25098039215686274], [0.20784313725490197, 0.28627450980392155, 0.23137254901960785], [0.27450980392156865, 0.34901960784313724, 0.2980392156862745], [0.27058823529411763, 0.35294117647058826, 0.35294117647058826], [0.23921568627450981, 0.35294117647058826, 0.37254901960784315], [0.25882352941176473, 0.3803921568627451, 0.40784313725490196]], [[0.20392156862745098, 0.2784313725490196, 0.19607843137254902], [0.20784313725490197, 0.29411764705882354, 0.20784313725490197], [0.21568627450980393, 0.3137254901960784, 0.22745098039215686], [0.2235294117647059, 0.3215686274509804, 0.23529411764705882], [0.2627450980392157, 0.3607843137254902, 0.28627450980392155], [0.2784313725490196, 0.3843137254901961, 0.32941176470588235], [0.30196078431372547, 0.4117647058823529, 0.3803921568627451], [0.3137254901960784, 0.4470588235294118, 0.4235294117647059], [0.35294117647058826, 0.5137254901960784, 0.5137254901960784], [0.41568627450980394, 0.5686274509803921, 0.611764705882353], [0.4549019607843137, 0.6039215686274509, 0.6666666666666666], [0.5019607843137255, 0.6588235294117647, 0.7098039215686275], [0.4980392156862745, 0.6784313725490196, 0.7176470588235294], [0.4392156862745098, 0.6039215686274509, 0.6431372549019608], [0.44313725490196076, 0.5764705882352941, 0.6078431372549019], [0.5137254901960784, 0.6274509803921569, 0.6549019607843137], [0.5176470588235295, 0.6039215686274509, 0.6431372549019608], [0.403921568627451, 0.5019607843137255, 0.5137254901960784], [0.2980392156862745, 0.40784313725490196, 0.3764705882352941], [0.24313725490196078, 0.33725490196078434, 0.27058823529411763], [0.24705882352941178, 0.33725490196078434, 0.25882352941176473], [0.2549019607843137, 0.28627450980392155, 0.23921568627450981], [0.24705882352941178, 0.29411764705882354, 0.24705882352941178], [0.21568627450980393, 0.32941176470588235, 0.2549019607843137], [0.20392156862745098, 0.3058823529411765, 0.23137254901960785], [0.22745098039215686, 0.2784313725490196, 0.21568627450980393], [0.2549019607843137, 0.27450980392156865, 0.21176470588235294], [0.23137254901960785, 0.2549019607843137, 0.1803921568627451], [0.2823529411764706, 0.32941176470588235, 0.25098039215686274], [0.24705882352941178, 0.34509803921568627, 0.3058823529411765], [0.2196078431372549, 0.3333333333333333, 0.32941176470588235], [0.25098039215686274, 0.36470588235294116, 0.3764705882352941]]]]}'"
            ]
          },
          "metadata": {
            "tags": []
          },
          "execution_count": 41
        }
      ]
    },
    {
      "cell_type": "markdown",
      "metadata": {
        "id": "KZDKjyfbPoIa"
      },
      "source": [
        "### Enviar la primera petición POST al modelo"
      ]
    },
    {
      "cell_type": "code",
      "metadata": {
        "id": "7oFbtxiyPe4p"
      },
      "source": [
        "headers = {\"content-type\":\"application/json\"}"
      ],
      "execution_count": 42,
      "outputs": []
    },
    {
      "cell_type": "code",
      "metadata": {
        "id": "I5KHh02nQYIJ"
      },
      "source": [
        "json_response = requests.post(url=\"http://localhost:8000/v1/models/cifar10:predict\", data=data, headers=headers)"
      ],
      "execution_count": 43,
      "outputs": []
    },
    {
      "cell_type": "code",
      "metadata": {
        "id": "bMYkCQ4gQ2tR",
        "outputId": "c33e0616-e250-4303-fbfb-ff9a5ea4a2b1",
        "colab": {
          "base_uri": "https://localhost:8080/",
          "height": 34
        }
      },
      "source": [
        "json_response"
      ],
      "execution_count": 44,
      "outputs": [
        {
          "output_type": "execute_result",
          "data": {
            "text/plain": [
              "<Response [200]>"
            ]
          },
          "metadata": {
            "tags": []
          },
          "execution_count": 44
        }
      ]
    },
    {
      "cell_type": "code",
      "metadata": {
        "id": "UtoG2441Q4_I"
      },
      "source": [
        "predictions = json.loads(json_response.text)['predictions']"
      ],
      "execution_count": 45,
      "outputs": []
    },
    {
      "cell_type": "code",
      "metadata": {
        "id": "hA-jN6xSRK2S",
        "outputId": "2a3a5447-5732-4b5c-e8e7-401d1453cf4b",
        "colab": {
          "base_uri": "https://localhost:8080/",
          "height": 187
        }
      },
      "source": [
        "predictions"
      ],
      "execution_count": 46,
      "outputs": [
        {
          "output_type": "execute_result",
          "data": {
            "text/plain": [
              "[[0.000112434522,\n",
              "  2.91902029e-06,\n",
              "  0.049065,\n",
              "  0.0013105449,\n",
              "  0.732287228,\n",
              "  0.000415284157,\n",
              "  0.21677956,\n",
              "  2.10254038e-05,\n",
              "  1.86315174e-06,\n",
              "  4.12425061e-06]]"
            ]
          },
          "metadata": {
            "tags": []
          },
          "execution_count": 46
        }
      ]
    },
    {
      "cell_type": "code",
      "metadata": {
        "id": "KlyFNxrxRL_A",
        "outputId": "c29afcd6-0111-4658-e5a3-38a2ef060326",
        "colab": {
          "base_uri": "https://localhost:8080/",
          "height": 283
        }
      },
      "source": [
        "plt.imshow(X_test[random_image])"
      ],
      "execution_count": 47,
      "outputs": [
        {
          "output_type": "execute_result",
          "data": {
            "text/plain": [
              "<matplotlib.image.AxesImage at 0x7f7b9e662128>"
            ]
          },
          "metadata": {
            "tags": []
          },
          "execution_count": 47
        },
        {
          "output_type": "display_data",
          "data": {
            "image/png": "[encoded data removed]",
            "text/plain": [
              "<Figure size 432x288 with 1 Axes>"
            ]
          },
          "metadata": {
            "tags": [],
            "needs_background": "light"
          }
        }
      ]
    },
    {
      "cell_type": "code",
      "metadata": {
        "id": "E3WbrMl_RW1Y",
        "outputId": "1c3378cf-c5a5-4994-9ccc-ad8542d57643",
        "colab": {
          "base_uri": "https://localhost:8080/",
          "height": 37
        }
      },
      "source": [
        "class_names[np.argmax(predictions[0])]"
      ],
      "execution_count": 48,
      "outputs": [
        {
          "output_type": "execute_result",
          "data": {
            "application/vnd.google.colaboratory.intrinsic+json": {
              "type": "string"
            },
            "text/plain": [
              "'ciervo'"
            ]
          },
          "metadata": {
            "tags": []
          },
          "execution_count": 48
        }
      ]
    },
    {
      "cell_type": "markdown",
      "metadata": {
        "id": "OVN6T3tFR_IQ"
      },
      "source": [
        "## Paso 8: Enviar una petición POST a un modelo específico "
      ]
    },
    {
      "cell_type": "code",
      "metadata": {
        "id": "5TYXGo-XRkCo"
      },
      "source": [
        "specific_json_response = requests.post(url=\"http://localhost:8000/v1/models/cifar10/versions/1:predict\", data=data, headers=headers)"
      ],
      "execution_count": 49,
      "outputs": []
    },
    {
      "cell_type": "code",
      "metadata": {
        "id": "TF9nOKVeS9ER",
        "outputId": "a9366f91-2634-4289-a81d-4320eae83dbd",
        "colab": {
          "base_uri": "https://localhost:8080/",
          "height": 34
        }
      },
      "source": [
        "specific_json_response"
      ],
      "execution_count": 50,
      "outputs": [
        {
          "output_type": "execute_result",
          "data": {
            "text/plain": [
              "<Response [200]>"
            ]
          },
          "metadata": {
            "tags": []
          },
          "execution_count": 50
        }
      ]
    }
  ]
}